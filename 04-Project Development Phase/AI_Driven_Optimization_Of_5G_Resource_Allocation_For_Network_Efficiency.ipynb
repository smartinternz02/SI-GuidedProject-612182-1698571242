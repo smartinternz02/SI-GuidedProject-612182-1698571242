{
  "nbformat": 4,
  "nbformat_minor": 0,
  "metadata": {
    "colab": {
      "provenance": []
    },
    "kernelspec": {
      "name": "python3",
      "display_name": "Python 3"
    },
    "language_info": {
      "name": "python"
    }
  },
  "cells": [
    {
      "cell_type": "markdown",
      "source": [
        "1. Import necessary Libraries"
      ],
      "metadata": {
        "id": "_tLI2Lyx5O-1"
      }
    },
    {
      "cell_type": "code",
      "execution_count": 1,
      "metadata": {
        "id": "rSvbH0gGm8cv"
      },
      "outputs": [],
      "source": [
        "import numpy as np\n",
        "import pandas as pd\n",
        "import matplotlib.pyplot as plt\n",
        "import seaborn as sns\n",
        "import pickle"
      ]
    },
    {
      "cell_type": "markdown",
      "source": [
        "2. load the dataset"
      ],
      "metadata": {
        "id": "bFvMN4gR5Vgl"
      }
    },
    {
      "cell_type": "code",
      "source": [
        "df = pd.read_csv(\"Quality of Service 5G.csv\")"
      ],
      "metadata": {
        "id": "xlUKQl6anC9b"
      },
      "execution_count": 2,
      "outputs": []
    },
    {
      "cell_type": "code",
      "source": [
        "df.head()\n"
      ],
      "metadata": {
        "colab": {
          "base_uri": "https://localhost:8080/",
          "height": 206
        },
        "id": "ZtDbKrSHnJZ_",
        "outputId": "1a3e6688-f81e-4902-f5e8-a936a7e0878c"
      },
      "execution_count": 3,
      "outputs": [
        {
          "output_type": "execute_result",
          "data": {
            "text/plain": [
              "        Timestamp User_ID   Application_Type Signal_Strength Latency  \\\n",
              "0  9/3/2023 10:00  User_1         Video_Call         -75 dBm   30 ms   \n",
              "1  9/3/2023 10:00  User_2         Voice_Call         -80 dBm   20 ms   \n",
              "2  9/3/2023 10:00  User_3          Streaming         -85 dBm   40 ms   \n",
              "3  9/3/2023 10:00  User_4  Emergency_Service         -70 dBm   10 ms   \n",
              "4  9/3/2023 10:00  User_5      Online_Gaming         -78 dBm   25 ms   \n",
              "\n",
              "  Required_Bandwidth Allocated_Bandwidth Resource_Allocation  \n",
              "0            10 Mbps             15 Mbps                 70%  \n",
              "1           100 Kbps            120 Kbps                 80%  \n",
              "2             5 Mbps              6 Mbps                 75%  \n",
              "3             1 Mbps            1.5 Mbps                 90%  \n",
              "4             2 Mbps              3 Mbps                 85%  "
            ],
            "text/html": [
              "\n",
              "  <div id=\"df-d84c69f5-1f2f-4dc4-98d3-cbe20019893d\" class=\"colab-df-container\">\n",
              "    <div>\n",
              "<style scoped>\n",
              "    .dataframe tbody tr th:only-of-type {\n",
              "        vertical-align: middle;\n",
              "    }\n",
              "\n",
              "    .dataframe tbody tr th {\n",
              "        vertical-align: top;\n",
              "    }\n",
              "\n",
              "    .dataframe thead th {\n",
              "        text-align: right;\n",
              "    }\n",
              "</style>\n",
              "<table border=\"1\" class=\"dataframe\">\n",
              "  <thead>\n",
              "    <tr style=\"text-align: right;\">\n",
              "      <th></th>\n",
              "      <th>Timestamp</th>\n",
              "      <th>User_ID</th>\n",
              "      <th>Application_Type</th>\n",
              "      <th>Signal_Strength</th>\n",
              "      <th>Latency</th>\n",
              "      <th>Required_Bandwidth</th>\n",
              "      <th>Allocated_Bandwidth</th>\n",
              "      <th>Resource_Allocation</th>\n",
              "    </tr>\n",
              "  </thead>\n",
              "  <tbody>\n",
              "    <tr>\n",
              "      <th>0</th>\n",
              "      <td>9/3/2023 10:00</td>\n",
              "      <td>User_1</td>\n",
              "      <td>Video_Call</td>\n",
              "      <td>-75 dBm</td>\n",
              "      <td>30 ms</td>\n",
              "      <td>10 Mbps</td>\n",
              "      <td>15 Mbps</td>\n",
              "      <td>70%</td>\n",
              "    </tr>\n",
              "    <tr>\n",
              "      <th>1</th>\n",
              "      <td>9/3/2023 10:00</td>\n",
              "      <td>User_2</td>\n",
              "      <td>Voice_Call</td>\n",
              "      <td>-80 dBm</td>\n",
              "      <td>20 ms</td>\n",
              "      <td>100 Kbps</td>\n",
              "      <td>120 Kbps</td>\n",
              "      <td>80%</td>\n",
              "    </tr>\n",
              "    <tr>\n",
              "      <th>2</th>\n",
              "      <td>9/3/2023 10:00</td>\n",
              "      <td>User_3</td>\n",
              "      <td>Streaming</td>\n",
              "      <td>-85 dBm</td>\n",
              "      <td>40 ms</td>\n",
              "      <td>5 Mbps</td>\n",
              "      <td>6 Mbps</td>\n",
              "      <td>75%</td>\n",
              "    </tr>\n",
              "    <tr>\n",
              "      <th>3</th>\n",
              "      <td>9/3/2023 10:00</td>\n",
              "      <td>User_4</td>\n",
              "      <td>Emergency_Service</td>\n",
              "      <td>-70 dBm</td>\n",
              "      <td>10 ms</td>\n",
              "      <td>1 Mbps</td>\n",
              "      <td>1.5 Mbps</td>\n",
              "      <td>90%</td>\n",
              "    </tr>\n",
              "    <tr>\n",
              "      <th>4</th>\n",
              "      <td>9/3/2023 10:00</td>\n",
              "      <td>User_5</td>\n",
              "      <td>Online_Gaming</td>\n",
              "      <td>-78 dBm</td>\n",
              "      <td>25 ms</td>\n",
              "      <td>2 Mbps</td>\n",
              "      <td>3 Mbps</td>\n",
              "      <td>85%</td>\n",
              "    </tr>\n",
              "  </tbody>\n",
              "</table>\n",
              "</div>\n",
              "    <div class=\"colab-df-buttons\">\n",
              "\n",
              "  <div class=\"colab-df-container\">\n",
              "    <button class=\"colab-df-convert\" onclick=\"convertToInteractive('df-d84c69f5-1f2f-4dc4-98d3-cbe20019893d')\"\n",
              "            title=\"Convert this dataframe to an interactive table.\"\n",
              "            style=\"display:none;\">\n",
              "\n",
              "  <svg xmlns=\"http://www.w3.org/2000/svg\" height=\"24px\" viewBox=\"0 -960 960 960\">\n",
              "    <path d=\"M120-120v-720h720v720H120Zm60-500h600v-160H180v160Zm220 220h160v-160H400v160Zm0 220h160v-160H400v160ZM180-400h160v-160H180v160Zm440 0h160v-160H620v160ZM180-180h160v-160H180v160Zm440 0h160v-160H620v160Z\"/>\n",
              "  </svg>\n",
              "    </button>\n",
              "\n",
              "  <style>\n",
              "    .colab-df-container {\n",
              "      display:flex;\n",
              "      gap: 12px;\n",
              "    }\n",
              "\n",
              "    .colab-df-convert {\n",
              "      background-color: #E8F0FE;\n",
              "      border: none;\n",
              "      border-radius: 50%;\n",
              "      cursor: pointer;\n",
              "      display: none;\n",
              "      fill: #1967D2;\n",
              "      height: 32px;\n",
              "      padding: 0 0 0 0;\n",
              "      width: 32px;\n",
              "    }\n",
              "\n",
              "    .colab-df-convert:hover {\n",
              "      background-color: #E2EBFA;\n",
              "      box-shadow: 0px 1px 2px rgba(60, 64, 67, 0.3), 0px 1px 3px 1px rgba(60, 64, 67, 0.15);\n",
              "      fill: #174EA6;\n",
              "    }\n",
              "\n",
              "    .colab-df-buttons div {\n",
              "      margin-bottom: 4px;\n",
              "    }\n",
              "\n",
              "    [theme=dark] .colab-df-convert {\n",
              "      background-color: #3B4455;\n",
              "      fill: #D2E3FC;\n",
              "    }\n",
              "\n",
              "    [theme=dark] .colab-df-convert:hover {\n",
              "      background-color: #434B5C;\n",
              "      box-shadow: 0px 1px 3px 1px rgba(0, 0, 0, 0.15);\n",
              "      filter: drop-shadow(0px 1px 2px rgba(0, 0, 0, 0.3));\n",
              "      fill: #FFFFFF;\n",
              "    }\n",
              "  </style>\n",
              "\n",
              "    <script>\n",
              "      const buttonEl =\n",
              "        document.querySelector('#df-d84c69f5-1f2f-4dc4-98d3-cbe20019893d button.colab-df-convert');\n",
              "      buttonEl.style.display =\n",
              "        google.colab.kernel.accessAllowed ? 'block' : 'none';\n",
              "\n",
              "      async function convertToInteractive(key) {\n",
              "        const element = document.querySelector('#df-d84c69f5-1f2f-4dc4-98d3-cbe20019893d');\n",
              "        const dataTable =\n",
              "          await google.colab.kernel.invokeFunction('convertToInteractive',\n",
              "                                                    [key], {});\n",
              "        if (!dataTable) return;\n",
              "\n",
              "        const docLinkHtml = 'Like what you see? Visit the ' +\n",
              "          '<a target=\"_blank\" href=https://colab.research.google.com/notebooks/data_table.ipynb>data table notebook</a>'\n",
              "          + ' to learn more about interactive tables.';\n",
              "        element.innerHTML = '';\n",
              "        dataTable['output_type'] = 'display_data';\n",
              "        await google.colab.output.renderOutput(dataTable, element);\n",
              "        const docLink = document.createElement('div');\n",
              "        docLink.innerHTML = docLinkHtml;\n",
              "        element.appendChild(docLink);\n",
              "      }\n",
              "    </script>\n",
              "  </div>\n",
              "\n",
              "\n",
              "<div id=\"df-9e8a96c2-6540-4a63-a42f-f7bbe8f99d12\">\n",
              "  <button class=\"colab-df-quickchart\" onclick=\"quickchart('df-9e8a96c2-6540-4a63-a42f-f7bbe8f99d12')\"\n",
              "            title=\"Suggest charts\"\n",
              "            style=\"display:none;\">\n",
              "\n",
              "<svg xmlns=\"http://www.w3.org/2000/svg\" height=\"24px\"viewBox=\"0 0 24 24\"\n",
              "     width=\"24px\">\n",
              "    <g>\n",
              "        <path d=\"M19 3H5c-1.1 0-2 .9-2 2v14c0 1.1.9 2 2 2h14c1.1 0 2-.9 2-2V5c0-1.1-.9-2-2-2zM9 17H7v-7h2v7zm4 0h-2V7h2v10zm4 0h-2v-4h2v4z\"/>\n",
              "    </g>\n",
              "</svg>\n",
              "  </button>\n",
              "\n",
              "<style>\n",
              "  .colab-df-quickchart {\n",
              "      --bg-color: #E8F0FE;\n",
              "      --fill-color: #1967D2;\n",
              "      --hover-bg-color: #E2EBFA;\n",
              "      --hover-fill-color: #174EA6;\n",
              "      --disabled-fill-color: #AAA;\n",
              "      --disabled-bg-color: #DDD;\n",
              "  }\n",
              "\n",
              "  [theme=dark] .colab-df-quickchart {\n",
              "      --bg-color: #3B4455;\n",
              "      --fill-color: #D2E3FC;\n",
              "      --hover-bg-color: #434B5C;\n",
              "      --hover-fill-color: #FFFFFF;\n",
              "      --disabled-bg-color: #3B4455;\n",
              "      --disabled-fill-color: #666;\n",
              "  }\n",
              "\n",
              "  .colab-df-quickchart {\n",
              "    background-color: var(--bg-color);\n",
              "    border: none;\n",
              "    border-radius: 50%;\n",
              "    cursor: pointer;\n",
              "    display: none;\n",
              "    fill: var(--fill-color);\n",
              "    height: 32px;\n",
              "    padding: 0;\n",
              "    width: 32px;\n",
              "  }\n",
              "\n",
              "  .colab-df-quickchart:hover {\n",
              "    background-color: var(--hover-bg-color);\n",
              "    box-shadow: 0 1px 2px rgba(60, 64, 67, 0.3), 0 1px 3px 1px rgba(60, 64, 67, 0.15);\n",
              "    fill: var(--button-hover-fill-color);\n",
              "  }\n",
              "\n",
              "  .colab-df-quickchart-complete:disabled,\n",
              "  .colab-df-quickchart-complete:disabled:hover {\n",
              "    background-color: var(--disabled-bg-color);\n",
              "    fill: var(--disabled-fill-color);\n",
              "    box-shadow: none;\n",
              "  }\n",
              "\n",
              "  .colab-df-spinner {\n",
              "    border: 2px solid var(--fill-color);\n",
              "    border-color: transparent;\n",
              "    border-bottom-color: var(--fill-color);\n",
              "    animation:\n",
              "      spin 1s steps(1) infinite;\n",
              "  }\n",
              "\n",
              "  @keyframes spin {\n",
              "    0% {\n",
              "      border-color: transparent;\n",
              "      border-bottom-color: var(--fill-color);\n",
              "      border-left-color: var(--fill-color);\n",
              "    }\n",
              "    20% {\n",
              "      border-color: transparent;\n",
              "      border-left-color: var(--fill-color);\n",
              "      border-top-color: var(--fill-color);\n",
              "    }\n",
              "    30% {\n",
              "      border-color: transparent;\n",
              "      border-left-color: var(--fill-color);\n",
              "      border-top-color: var(--fill-color);\n",
              "      border-right-color: var(--fill-color);\n",
              "    }\n",
              "    40% {\n",
              "      border-color: transparent;\n",
              "      border-right-color: var(--fill-color);\n",
              "      border-top-color: var(--fill-color);\n",
              "    }\n",
              "    60% {\n",
              "      border-color: transparent;\n",
              "      border-right-color: var(--fill-color);\n",
              "    }\n",
              "    80% {\n",
              "      border-color: transparent;\n",
              "      border-right-color: var(--fill-color);\n",
              "      border-bottom-color: var(--fill-color);\n",
              "    }\n",
              "    90% {\n",
              "      border-color: transparent;\n",
              "      border-bottom-color: var(--fill-color);\n",
              "    }\n",
              "  }\n",
              "</style>\n",
              "\n",
              "  <script>\n",
              "    async function quickchart(key) {\n",
              "      const quickchartButtonEl =\n",
              "        document.querySelector('#' + key + ' button');\n",
              "      quickchartButtonEl.disabled = true;  // To prevent multiple clicks.\n",
              "      quickchartButtonEl.classList.add('colab-df-spinner');\n",
              "      try {\n",
              "        const charts = await google.colab.kernel.invokeFunction(\n",
              "            'suggestCharts', [key], {});\n",
              "      } catch (error) {\n",
              "        console.error('Error during call to suggestCharts:', error);\n",
              "      }\n",
              "      quickchartButtonEl.classList.remove('colab-df-spinner');\n",
              "      quickchartButtonEl.classList.add('colab-df-quickchart-complete');\n",
              "    }\n",
              "    (() => {\n",
              "      let quickchartButtonEl =\n",
              "        document.querySelector('#df-9e8a96c2-6540-4a63-a42f-f7bbe8f99d12 button');\n",
              "      quickchartButtonEl.style.display =\n",
              "        google.colab.kernel.accessAllowed ? 'block' : 'none';\n",
              "    })();\n",
              "  </script>\n",
              "</div>\n",
              "    </div>\n",
              "  </div>\n"
            ]
          },
          "metadata": {},
          "execution_count": 3
        }
      ]
    },
    {
      "cell_type": "code",
      "source": [
        "df.info()"
      ],
      "metadata": {
        "colab": {
          "base_uri": "https://localhost:8080/"
        },
        "id": "6yTQ4Gu3rkLH",
        "outputId": "1ee04cb9-625a-4aae-c0e8-e7464da5d9e2"
      },
      "execution_count": 4,
      "outputs": [
        {
          "output_type": "stream",
          "name": "stdout",
          "text": [
            "<class 'pandas.core.frame.DataFrame'>\n",
            "RangeIndex: 400 entries, 0 to 399\n",
            "Data columns (total 8 columns):\n",
            " #   Column               Non-Null Count  Dtype \n",
            "---  ------               --------------  ----- \n",
            " 0   Timestamp            400 non-null    object\n",
            " 1   User_ID              400 non-null    object\n",
            " 2   Application_Type     400 non-null    object\n",
            " 3   Signal_Strength      400 non-null    object\n",
            " 4   Latency              400 non-null    object\n",
            " 5   Required_Bandwidth   400 non-null    object\n",
            " 6   Allocated_Bandwidth  400 non-null    object\n",
            " 7   Resource_Allocation  400 non-null    object\n",
            "dtypes: object(8)\n",
            "memory usage: 25.1+ KB\n"
          ]
        }
      ]
    },
    {
      "cell_type": "code",
      "source": [
        "df.describe()"
      ],
      "metadata": {
        "colab": {
          "base_uri": "https://localhost:8080/",
          "height": 174
        },
        "id": "LteyVeCgzPhD",
        "outputId": "5ad301fd-2aeb-4f97-8ddb-ddb2f5797279"
      },
      "execution_count": 5,
      "outputs": [
        {
          "output_type": "execute_result",
          "data": {
            "text/plain": [
              "             Timestamp User_ID Application_Type Signal_Strength Latency  \\\n",
              "count              400     400              400             400     400   \n",
              "unique               7     400               11              84      87   \n",
              "top     9/3/2023 10:01  User_1       Video_Call         -97 dBm    5 ms   \n",
              "freq                60       1               58               9      35   \n",
              "\n",
              "       Required_Bandwidth Allocated_Bandwidth Resource_Allocation  \n",
              "count                 400                 400                 400  \n",
              "unique                188                 194                   9  \n",
              "top              0.1 Mbps            0.1 Mbps                 70%  \n",
              "freq                   16                  16                 148  "
            ],
            "text/html": [
              "\n",
              "  <div id=\"df-52542bab-aabb-46b9-ba4c-2c380b5b0755\" class=\"colab-df-container\">\n",
              "    <div>\n",
              "<style scoped>\n",
              "    .dataframe tbody tr th:only-of-type {\n",
              "        vertical-align: middle;\n",
              "    }\n",
              "\n",
              "    .dataframe tbody tr th {\n",
              "        vertical-align: top;\n",
              "    }\n",
              "\n",
              "    .dataframe thead th {\n",
              "        text-align: right;\n",
              "    }\n",
              "</style>\n",
              "<table border=\"1\" class=\"dataframe\">\n",
              "  <thead>\n",
              "    <tr style=\"text-align: right;\">\n",
              "      <th></th>\n",
              "      <th>Timestamp</th>\n",
              "      <th>User_ID</th>\n",
              "      <th>Application_Type</th>\n",
              "      <th>Signal_Strength</th>\n",
              "      <th>Latency</th>\n",
              "      <th>Required_Bandwidth</th>\n",
              "      <th>Allocated_Bandwidth</th>\n",
              "      <th>Resource_Allocation</th>\n",
              "    </tr>\n",
              "  </thead>\n",
              "  <tbody>\n",
              "    <tr>\n",
              "      <th>count</th>\n",
              "      <td>400</td>\n",
              "      <td>400</td>\n",
              "      <td>400</td>\n",
              "      <td>400</td>\n",
              "      <td>400</td>\n",
              "      <td>400</td>\n",
              "      <td>400</td>\n",
              "      <td>400</td>\n",
              "    </tr>\n",
              "    <tr>\n",
              "      <th>unique</th>\n",
              "      <td>7</td>\n",
              "      <td>400</td>\n",
              "      <td>11</td>\n",
              "      <td>84</td>\n",
              "      <td>87</td>\n",
              "      <td>188</td>\n",
              "      <td>194</td>\n",
              "      <td>9</td>\n",
              "    </tr>\n",
              "    <tr>\n",
              "      <th>top</th>\n",
              "      <td>9/3/2023 10:01</td>\n",
              "      <td>User_1</td>\n",
              "      <td>Video_Call</td>\n",
              "      <td>-97 dBm</td>\n",
              "      <td>5 ms</td>\n",
              "      <td>0.1 Mbps</td>\n",
              "      <td>0.1 Mbps</td>\n",
              "      <td>70%</td>\n",
              "    </tr>\n",
              "    <tr>\n",
              "      <th>freq</th>\n",
              "      <td>60</td>\n",
              "      <td>1</td>\n",
              "      <td>58</td>\n",
              "      <td>9</td>\n",
              "      <td>35</td>\n",
              "      <td>16</td>\n",
              "      <td>16</td>\n",
              "      <td>148</td>\n",
              "    </tr>\n",
              "  </tbody>\n",
              "</table>\n",
              "</div>\n",
              "    <div class=\"colab-df-buttons\">\n",
              "\n",
              "  <div class=\"colab-df-container\">\n",
              "    <button class=\"colab-df-convert\" onclick=\"convertToInteractive('df-52542bab-aabb-46b9-ba4c-2c380b5b0755')\"\n",
              "            title=\"Convert this dataframe to an interactive table.\"\n",
              "            style=\"display:none;\">\n",
              "\n",
              "  <svg xmlns=\"http://www.w3.org/2000/svg\" height=\"24px\" viewBox=\"0 -960 960 960\">\n",
              "    <path d=\"M120-120v-720h720v720H120Zm60-500h600v-160H180v160Zm220 220h160v-160H400v160Zm0 220h160v-160H400v160ZM180-400h160v-160H180v160Zm440 0h160v-160H620v160ZM180-180h160v-160H180v160Zm440 0h160v-160H620v160Z\"/>\n",
              "  </svg>\n",
              "    </button>\n",
              "\n",
              "  <style>\n",
              "    .colab-df-container {\n",
              "      display:flex;\n",
              "      gap: 12px;\n",
              "    }\n",
              "\n",
              "    .colab-df-convert {\n",
              "      background-color: #E8F0FE;\n",
              "      border: none;\n",
              "      border-radius: 50%;\n",
              "      cursor: pointer;\n",
              "      display: none;\n",
              "      fill: #1967D2;\n",
              "      height: 32px;\n",
              "      padding: 0 0 0 0;\n",
              "      width: 32px;\n",
              "    }\n",
              "\n",
              "    .colab-df-convert:hover {\n",
              "      background-color: #E2EBFA;\n",
              "      box-shadow: 0px 1px 2px rgba(60, 64, 67, 0.3), 0px 1px 3px 1px rgba(60, 64, 67, 0.15);\n",
              "      fill: #174EA6;\n",
              "    }\n",
              "\n",
              "    .colab-df-buttons div {\n",
              "      margin-bottom: 4px;\n",
              "    }\n",
              "\n",
              "    [theme=dark] .colab-df-convert {\n",
              "      background-color: #3B4455;\n",
              "      fill: #D2E3FC;\n",
              "    }\n",
              "\n",
              "    [theme=dark] .colab-df-convert:hover {\n",
              "      background-color: #434B5C;\n",
              "      box-shadow: 0px 1px 3px 1px rgba(0, 0, 0, 0.15);\n",
              "      filter: drop-shadow(0px 1px 2px rgba(0, 0, 0, 0.3));\n",
              "      fill: #FFFFFF;\n",
              "    }\n",
              "  </style>\n",
              "\n",
              "    <script>\n",
              "      const buttonEl =\n",
              "        document.querySelector('#df-52542bab-aabb-46b9-ba4c-2c380b5b0755 button.colab-df-convert');\n",
              "      buttonEl.style.display =\n",
              "        google.colab.kernel.accessAllowed ? 'block' : 'none';\n",
              "\n",
              "      async function convertToInteractive(key) {\n",
              "        const element = document.querySelector('#df-52542bab-aabb-46b9-ba4c-2c380b5b0755');\n",
              "        const dataTable =\n",
              "          await google.colab.kernel.invokeFunction('convertToInteractive',\n",
              "                                                    [key], {});\n",
              "        if (!dataTable) return;\n",
              "\n",
              "        const docLinkHtml = 'Like what you see? Visit the ' +\n",
              "          '<a target=\"_blank\" href=https://colab.research.google.com/notebooks/data_table.ipynb>data table notebook</a>'\n",
              "          + ' to learn more about interactive tables.';\n",
              "        element.innerHTML = '';\n",
              "        dataTable['output_type'] = 'display_data';\n",
              "        await google.colab.output.renderOutput(dataTable, element);\n",
              "        const docLink = document.createElement('div');\n",
              "        docLink.innerHTML = docLinkHtml;\n",
              "        element.appendChild(docLink);\n",
              "      }\n",
              "    </script>\n",
              "  </div>\n",
              "\n",
              "\n",
              "<div id=\"df-3d8bbb90-b8e2-4ed4-b35e-8f3e6489c3e1\">\n",
              "  <button class=\"colab-df-quickchart\" onclick=\"quickchart('df-3d8bbb90-b8e2-4ed4-b35e-8f3e6489c3e1')\"\n",
              "            title=\"Suggest charts\"\n",
              "            style=\"display:none;\">\n",
              "\n",
              "<svg xmlns=\"http://www.w3.org/2000/svg\" height=\"24px\"viewBox=\"0 0 24 24\"\n",
              "     width=\"24px\">\n",
              "    <g>\n",
              "        <path d=\"M19 3H5c-1.1 0-2 .9-2 2v14c0 1.1.9 2 2 2h14c1.1 0 2-.9 2-2V5c0-1.1-.9-2-2-2zM9 17H7v-7h2v7zm4 0h-2V7h2v10zm4 0h-2v-4h2v4z\"/>\n",
              "    </g>\n",
              "</svg>\n",
              "  </button>\n",
              "\n",
              "<style>\n",
              "  .colab-df-quickchart {\n",
              "      --bg-color: #E8F0FE;\n",
              "      --fill-color: #1967D2;\n",
              "      --hover-bg-color: #E2EBFA;\n",
              "      --hover-fill-color: #174EA6;\n",
              "      --disabled-fill-color: #AAA;\n",
              "      --disabled-bg-color: #DDD;\n",
              "  }\n",
              "\n",
              "  [theme=dark] .colab-df-quickchart {\n",
              "      --bg-color: #3B4455;\n",
              "      --fill-color: #D2E3FC;\n",
              "      --hover-bg-color: #434B5C;\n",
              "      --hover-fill-color: #FFFFFF;\n",
              "      --disabled-bg-color: #3B4455;\n",
              "      --disabled-fill-color: #666;\n",
              "  }\n",
              "\n",
              "  .colab-df-quickchart {\n",
              "    background-color: var(--bg-color);\n",
              "    border: none;\n",
              "    border-radius: 50%;\n",
              "    cursor: pointer;\n",
              "    display: none;\n",
              "    fill: var(--fill-color);\n",
              "    height: 32px;\n",
              "    padding: 0;\n",
              "    width: 32px;\n",
              "  }\n",
              "\n",
              "  .colab-df-quickchart:hover {\n",
              "    background-color: var(--hover-bg-color);\n",
              "    box-shadow: 0 1px 2px rgba(60, 64, 67, 0.3), 0 1px 3px 1px rgba(60, 64, 67, 0.15);\n",
              "    fill: var(--button-hover-fill-color);\n",
              "  }\n",
              "\n",
              "  .colab-df-quickchart-complete:disabled,\n",
              "  .colab-df-quickchart-complete:disabled:hover {\n",
              "    background-color: var(--disabled-bg-color);\n",
              "    fill: var(--disabled-fill-color);\n",
              "    box-shadow: none;\n",
              "  }\n",
              "\n",
              "  .colab-df-spinner {\n",
              "    border: 2px solid var(--fill-color);\n",
              "    border-color: transparent;\n",
              "    border-bottom-color: var(--fill-color);\n",
              "    animation:\n",
              "      spin 1s steps(1) infinite;\n",
              "  }\n",
              "\n",
              "  @keyframes spin {\n",
              "    0% {\n",
              "      border-color: transparent;\n",
              "      border-bottom-color: var(--fill-color);\n",
              "      border-left-color: var(--fill-color);\n",
              "    }\n",
              "    20% {\n",
              "      border-color: transparent;\n",
              "      border-left-color: var(--fill-color);\n",
              "      border-top-color: var(--fill-color);\n",
              "    }\n",
              "    30% {\n",
              "      border-color: transparent;\n",
              "      border-left-color: var(--fill-color);\n",
              "      border-top-color: var(--fill-color);\n",
              "      border-right-color: var(--fill-color);\n",
              "    }\n",
              "    40% {\n",
              "      border-color: transparent;\n",
              "      border-right-color: var(--fill-color);\n",
              "      border-top-color: var(--fill-color);\n",
              "    }\n",
              "    60% {\n",
              "      border-color: transparent;\n",
              "      border-right-color: var(--fill-color);\n",
              "    }\n",
              "    80% {\n",
              "      border-color: transparent;\n",
              "      border-right-color: var(--fill-color);\n",
              "      border-bottom-color: var(--fill-color);\n",
              "    }\n",
              "    90% {\n",
              "      border-color: transparent;\n",
              "      border-bottom-color: var(--fill-color);\n",
              "    }\n",
              "  }\n",
              "</style>\n",
              "\n",
              "  <script>\n",
              "    async function quickchart(key) {\n",
              "      const quickchartButtonEl =\n",
              "        document.querySelector('#' + key + ' button');\n",
              "      quickchartButtonEl.disabled = true;  // To prevent multiple clicks.\n",
              "      quickchartButtonEl.classList.add('colab-df-spinner');\n",
              "      try {\n",
              "        const charts = await google.colab.kernel.invokeFunction(\n",
              "            'suggestCharts', [key], {});\n",
              "      } catch (error) {\n",
              "        console.error('Error during call to suggestCharts:', error);\n",
              "      }\n",
              "      quickchartButtonEl.classList.remove('colab-df-spinner');\n",
              "      quickchartButtonEl.classList.add('colab-df-quickchart-complete');\n",
              "    }\n",
              "    (() => {\n",
              "      let quickchartButtonEl =\n",
              "        document.querySelector('#df-3d8bbb90-b8e2-4ed4-b35e-8f3e6489c3e1 button');\n",
              "      quickchartButtonEl.style.display =\n",
              "        google.colab.kernel.accessAllowed ? 'block' : 'none';\n",
              "    })();\n",
              "  </script>\n",
              "</div>\n",
              "    </div>\n",
              "  </div>\n"
            ]
          },
          "metadata": {},
          "execution_count": 5
        }
      ]
    },
    {
      "cell_type": "code",
      "source": [
        "def mbps_to_kbps(value):\n",
        "    if 'Mbps' in value:\n",
        "        n = float(value.replace(' Mbps',''))\n",
        "        return str(n*1000)+' Kbps'\n",
        "    else:\n",
        "        return value\n",
        "\n",
        "\n",
        "df['Required_Bandwidth'] = df['Required_Bandwidth'].map(mbps_to_kbps)\n",
        "df['Allocated_Bandwidth'] = df['Allocated_Bandwidth'].map(mbps_to_kbps)"
      ],
      "metadata": {
        "id": "PnxS5vF9yjYH"
      },
      "execution_count": 6,
      "outputs": []
    },
    {
      "cell_type": "code",
      "source": [
        "df['Signal_Strength'] = df['Signal_Strength'].str.extract('(-\\d+)').astype(int)\n",
        "df['Latency'] = df['Latency'].str.extract('(\\d+)').astype(int)\n",
        "df['Required_Bandwidth'] = df['Required_Bandwidth'].str.extract('(\\d+)').astype(float)\n",
        "df['Allocated_Bandwidth'] = df['Allocated_Bandwidth'].str.extract('(\\d+)').astype(float)\n",
        "df['Resource_Allocation'] = df['Resource_Allocation'].str.extract('(\\d+)').astype(int)"
      ],
      "metadata": {
        "id": "d7S9BE-yzRtD"
      },
      "execution_count": 7,
      "outputs": []
    },
    {
      "cell_type": "code",
      "source": [
        "df.head()"
      ],
      "metadata": {
        "colab": {
          "base_uri": "https://localhost:8080/",
          "height": 206
        },
        "id": "npy91szLzUC6",
        "outputId": "4bc55e8e-48c4-4cbd-e123-4b68898af2fe"
      },
      "execution_count": 8,
      "outputs": [
        {
          "output_type": "execute_result",
          "data": {
            "text/plain": [
              "        Timestamp User_ID   Application_Type  Signal_Strength  Latency  \\\n",
              "0  9/3/2023 10:00  User_1         Video_Call              -75       30   \n",
              "1  9/3/2023 10:00  User_2         Voice_Call              -80       20   \n",
              "2  9/3/2023 10:00  User_3          Streaming              -85       40   \n",
              "3  9/3/2023 10:00  User_4  Emergency_Service              -70       10   \n",
              "4  9/3/2023 10:00  User_5      Online_Gaming              -78       25   \n",
              "\n",
              "   Required_Bandwidth  Allocated_Bandwidth  Resource_Allocation  \n",
              "0             10000.0              15000.0                   70  \n",
              "1               100.0                120.0                   80  \n",
              "2              5000.0               6000.0                   75  \n",
              "3              1000.0               1500.0                   90  \n",
              "4              2000.0               3000.0                   85  "
            ],
            "text/html": [
              "\n",
              "  <div id=\"df-ef7e50a0-2487-4eac-b4e8-1645c5317fe1\" class=\"colab-df-container\">\n",
              "    <div>\n",
              "<style scoped>\n",
              "    .dataframe tbody tr th:only-of-type {\n",
              "        vertical-align: middle;\n",
              "    }\n",
              "\n",
              "    .dataframe tbody tr th {\n",
              "        vertical-align: top;\n",
              "    }\n",
              "\n",
              "    .dataframe thead th {\n",
              "        text-align: right;\n",
              "    }\n",
              "</style>\n",
              "<table border=\"1\" class=\"dataframe\">\n",
              "  <thead>\n",
              "    <tr style=\"text-align: right;\">\n",
              "      <th></th>\n",
              "      <th>Timestamp</th>\n",
              "      <th>User_ID</th>\n",
              "      <th>Application_Type</th>\n",
              "      <th>Signal_Strength</th>\n",
              "      <th>Latency</th>\n",
              "      <th>Required_Bandwidth</th>\n",
              "      <th>Allocated_Bandwidth</th>\n",
              "      <th>Resource_Allocation</th>\n",
              "    </tr>\n",
              "  </thead>\n",
              "  <tbody>\n",
              "    <tr>\n",
              "      <th>0</th>\n",
              "      <td>9/3/2023 10:00</td>\n",
              "      <td>User_1</td>\n",
              "      <td>Video_Call</td>\n",
              "      <td>-75</td>\n",
              "      <td>30</td>\n",
              "      <td>10000.0</td>\n",
              "      <td>15000.0</td>\n",
              "      <td>70</td>\n",
              "    </tr>\n",
              "    <tr>\n",
              "      <th>1</th>\n",
              "      <td>9/3/2023 10:00</td>\n",
              "      <td>User_2</td>\n",
              "      <td>Voice_Call</td>\n",
              "      <td>-80</td>\n",
              "      <td>20</td>\n",
              "      <td>100.0</td>\n",
              "      <td>120.0</td>\n",
              "      <td>80</td>\n",
              "    </tr>\n",
              "    <tr>\n",
              "      <th>2</th>\n",
              "      <td>9/3/2023 10:00</td>\n",
              "      <td>User_3</td>\n",
              "      <td>Streaming</td>\n",
              "      <td>-85</td>\n",
              "      <td>40</td>\n",
              "      <td>5000.0</td>\n",
              "      <td>6000.0</td>\n",
              "      <td>75</td>\n",
              "    </tr>\n",
              "    <tr>\n",
              "      <th>3</th>\n",
              "      <td>9/3/2023 10:00</td>\n",
              "      <td>User_4</td>\n",
              "      <td>Emergency_Service</td>\n",
              "      <td>-70</td>\n",
              "      <td>10</td>\n",
              "      <td>1000.0</td>\n",
              "      <td>1500.0</td>\n",
              "      <td>90</td>\n",
              "    </tr>\n",
              "    <tr>\n",
              "      <th>4</th>\n",
              "      <td>9/3/2023 10:00</td>\n",
              "      <td>User_5</td>\n",
              "      <td>Online_Gaming</td>\n",
              "      <td>-78</td>\n",
              "      <td>25</td>\n",
              "      <td>2000.0</td>\n",
              "      <td>3000.0</td>\n",
              "      <td>85</td>\n",
              "    </tr>\n",
              "  </tbody>\n",
              "</table>\n",
              "</div>\n",
              "    <div class=\"colab-df-buttons\">\n",
              "\n",
              "  <div class=\"colab-df-container\">\n",
              "    <button class=\"colab-df-convert\" onclick=\"convertToInteractive('df-ef7e50a0-2487-4eac-b4e8-1645c5317fe1')\"\n",
              "            title=\"Convert this dataframe to an interactive table.\"\n",
              "            style=\"display:none;\">\n",
              "\n",
              "  <svg xmlns=\"http://www.w3.org/2000/svg\" height=\"24px\" viewBox=\"0 -960 960 960\">\n",
              "    <path d=\"M120-120v-720h720v720H120Zm60-500h600v-160H180v160Zm220 220h160v-160H400v160Zm0 220h160v-160H400v160ZM180-400h160v-160H180v160Zm440 0h160v-160H620v160ZM180-180h160v-160H180v160Zm440 0h160v-160H620v160Z\"/>\n",
              "  </svg>\n",
              "    </button>\n",
              "\n",
              "  <style>\n",
              "    .colab-df-container {\n",
              "      display:flex;\n",
              "      gap: 12px;\n",
              "    }\n",
              "\n",
              "    .colab-df-convert {\n",
              "      background-color: #E8F0FE;\n",
              "      border: none;\n",
              "      border-radius: 50%;\n",
              "      cursor: pointer;\n",
              "      display: none;\n",
              "      fill: #1967D2;\n",
              "      height: 32px;\n",
              "      padding: 0 0 0 0;\n",
              "      width: 32px;\n",
              "    }\n",
              "\n",
              "    .colab-df-convert:hover {\n",
              "      background-color: #E2EBFA;\n",
              "      box-shadow: 0px 1px 2px rgba(60, 64, 67, 0.3), 0px 1px 3px 1px rgba(60, 64, 67, 0.15);\n",
              "      fill: #174EA6;\n",
              "    }\n",
              "\n",
              "    .colab-df-buttons div {\n",
              "      margin-bottom: 4px;\n",
              "    }\n",
              "\n",
              "    [theme=dark] .colab-df-convert {\n",
              "      background-color: #3B4455;\n",
              "      fill: #D2E3FC;\n",
              "    }\n",
              "\n",
              "    [theme=dark] .colab-df-convert:hover {\n",
              "      background-color: #434B5C;\n",
              "      box-shadow: 0px 1px 3px 1px rgba(0, 0, 0, 0.15);\n",
              "      filter: drop-shadow(0px 1px 2px rgba(0, 0, 0, 0.3));\n",
              "      fill: #FFFFFF;\n",
              "    }\n",
              "  </style>\n",
              "\n",
              "    <script>\n",
              "      const buttonEl =\n",
              "        document.querySelector('#df-ef7e50a0-2487-4eac-b4e8-1645c5317fe1 button.colab-df-convert');\n",
              "      buttonEl.style.display =\n",
              "        google.colab.kernel.accessAllowed ? 'block' : 'none';\n",
              "\n",
              "      async function convertToInteractive(key) {\n",
              "        const element = document.querySelector('#df-ef7e50a0-2487-4eac-b4e8-1645c5317fe1');\n",
              "        const dataTable =\n",
              "          await google.colab.kernel.invokeFunction('convertToInteractive',\n",
              "                                                    [key], {});\n",
              "        if (!dataTable) return;\n",
              "\n",
              "        const docLinkHtml = 'Like what you see? Visit the ' +\n",
              "          '<a target=\"_blank\" href=https://colab.research.google.com/notebooks/data_table.ipynb>data table notebook</a>'\n",
              "          + ' to learn more about interactive tables.';\n",
              "        element.innerHTML = '';\n",
              "        dataTable['output_type'] = 'display_data';\n",
              "        await google.colab.output.renderOutput(dataTable, element);\n",
              "        const docLink = document.createElement('div');\n",
              "        docLink.innerHTML = docLinkHtml;\n",
              "        element.appendChild(docLink);\n",
              "      }\n",
              "    </script>\n",
              "  </div>\n",
              "\n",
              "\n",
              "<div id=\"df-51e92667-2e06-495b-8237-5fdd75da16d1\">\n",
              "  <button class=\"colab-df-quickchart\" onclick=\"quickchart('df-51e92667-2e06-495b-8237-5fdd75da16d1')\"\n",
              "            title=\"Suggest charts\"\n",
              "            style=\"display:none;\">\n",
              "\n",
              "<svg xmlns=\"http://www.w3.org/2000/svg\" height=\"24px\"viewBox=\"0 0 24 24\"\n",
              "     width=\"24px\">\n",
              "    <g>\n",
              "        <path d=\"M19 3H5c-1.1 0-2 .9-2 2v14c0 1.1.9 2 2 2h14c1.1 0 2-.9 2-2V5c0-1.1-.9-2-2-2zM9 17H7v-7h2v7zm4 0h-2V7h2v10zm4 0h-2v-4h2v4z\"/>\n",
              "    </g>\n",
              "</svg>\n",
              "  </button>\n",
              "\n",
              "<style>\n",
              "  .colab-df-quickchart {\n",
              "      --bg-color: #E8F0FE;\n",
              "      --fill-color: #1967D2;\n",
              "      --hover-bg-color: #E2EBFA;\n",
              "      --hover-fill-color: #174EA6;\n",
              "      --disabled-fill-color: #AAA;\n",
              "      --disabled-bg-color: #DDD;\n",
              "  }\n",
              "\n",
              "  [theme=dark] .colab-df-quickchart {\n",
              "      --bg-color: #3B4455;\n",
              "      --fill-color: #D2E3FC;\n",
              "      --hover-bg-color: #434B5C;\n",
              "      --hover-fill-color: #FFFFFF;\n",
              "      --disabled-bg-color: #3B4455;\n",
              "      --disabled-fill-color: #666;\n",
              "  }\n",
              "\n",
              "  .colab-df-quickchart {\n",
              "    background-color: var(--bg-color);\n",
              "    border: none;\n",
              "    border-radius: 50%;\n",
              "    cursor: pointer;\n",
              "    display: none;\n",
              "    fill: var(--fill-color);\n",
              "    height: 32px;\n",
              "    padding: 0;\n",
              "    width: 32px;\n",
              "  }\n",
              "\n",
              "  .colab-df-quickchart:hover {\n",
              "    background-color: var(--hover-bg-color);\n",
              "    box-shadow: 0 1px 2px rgba(60, 64, 67, 0.3), 0 1px 3px 1px rgba(60, 64, 67, 0.15);\n",
              "    fill: var(--button-hover-fill-color);\n",
              "  }\n",
              "\n",
              "  .colab-df-quickchart-complete:disabled,\n",
              "  .colab-df-quickchart-complete:disabled:hover {\n",
              "    background-color: var(--disabled-bg-color);\n",
              "    fill: var(--disabled-fill-color);\n",
              "    box-shadow: none;\n",
              "  }\n",
              "\n",
              "  .colab-df-spinner {\n",
              "    border: 2px solid var(--fill-color);\n",
              "    border-color: transparent;\n",
              "    border-bottom-color: var(--fill-color);\n",
              "    animation:\n",
              "      spin 1s steps(1) infinite;\n",
              "  }\n",
              "\n",
              "  @keyframes spin {\n",
              "    0% {\n",
              "      border-color: transparent;\n",
              "      border-bottom-color: var(--fill-color);\n",
              "      border-left-color: var(--fill-color);\n",
              "    }\n",
              "    20% {\n",
              "      border-color: transparent;\n",
              "      border-left-color: var(--fill-color);\n",
              "      border-top-color: var(--fill-color);\n",
              "    }\n",
              "    30% {\n",
              "      border-color: transparent;\n",
              "      border-left-color: var(--fill-color);\n",
              "      border-top-color: var(--fill-color);\n",
              "      border-right-color: var(--fill-color);\n",
              "    }\n",
              "    40% {\n",
              "      border-color: transparent;\n",
              "      border-right-color: var(--fill-color);\n",
              "      border-top-color: var(--fill-color);\n",
              "    }\n",
              "    60% {\n",
              "      border-color: transparent;\n",
              "      border-right-color: var(--fill-color);\n",
              "    }\n",
              "    80% {\n",
              "      border-color: transparent;\n",
              "      border-right-color: var(--fill-color);\n",
              "      border-bottom-color: var(--fill-color);\n",
              "    }\n",
              "    90% {\n",
              "      border-color: transparent;\n",
              "      border-bottom-color: var(--fill-color);\n",
              "    }\n",
              "  }\n",
              "</style>\n",
              "\n",
              "  <script>\n",
              "    async function quickchart(key) {\n",
              "      const quickchartButtonEl =\n",
              "        document.querySelector('#' + key + ' button');\n",
              "      quickchartButtonEl.disabled = true;  // To prevent multiple clicks.\n",
              "      quickchartButtonEl.classList.add('colab-df-spinner');\n",
              "      try {\n",
              "        const charts = await google.colab.kernel.invokeFunction(\n",
              "            'suggestCharts', [key], {});\n",
              "      } catch (error) {\n",
              "        console.error('Error during call to suggestCharts:', error);\n",
              "      }\n",
              "      quickchartButtonEl.classList.remove('colab-df-spinner');\n",
              "      quickchartButtonEl.classList.add('colab-df-quickchart-complete');\n",
              "    }\n",
              "    (() => {\n",
              "      let quickchartButtonEl =\n",
              "        document.querySelector('#df-51e92667-2e06-495b-8237-5fdd75da16d1 button');\n",
              "      quickchartButtonEl.style.display =\n",
              "        google.colab.kernel.accessAllowed ? 'block' : 'none';\n",
              "    })();\n",
              "  </script>\n",
              "</div>\n",
              "    </div>\n",
              "  </div>\n"
            ]
          },
          "metadata": {},
          "execution_count": 8
        }
      ]
    },
    {
      "cell_type": "code",
      "source": [
        "df.describe()"
      ],
      "metadata": {
        "colab": {
          "base_uri": "https://localhost:8080/",
          "height": 300
        },
        "id": "lP65LigozVjF",
        "outputId": "0c132ae4-9a4e-4bb3-95ac-19e09e8c57ca"
      },
      "execution_count": 9,
      "outputs": [
        {
          "output_type": "execute_result",
          "data": {
            "text/plain": [
              "       Signal_Strength     Latency  Required_Bandwidth  Allocated_Bandwidth  \\\n",
              "count       400.000000  400.000000          400.000000            400.00000   \n",
              "mean        -80.495000   33.825000         3135.512500           3502.38000   \n",
              "std          20.701119   21.122139         3984.096715           4460.80117   \n",
              "min        -123.000000    0.000000            0.000000              0.00000   \n",
              "25%         -98.000000   21.750000          417.500000            417.50000   \n",
              "50%         -83.000000   31.000000         1200.000000           1350.00000   \n",
              "75%         -64.000000   45.000000         4100.000000           4425.00000   \n",
              "max         -40.000000  110.000000        14500.000000          15800.00000   \n",
              "\n",
              "       Resource_Allocation  \n",
              "count           400.000000  \n",
              "mean             74.712500  \n",
              "std               8.982291  \n",
              "min              50.000000  \n",
              "25%              70.000000  \n",
              "50%              70.000000  \n",
              "75%              80.000000  \n",
              "max              90.000000  "
            ],
            "text/html": [
              "\n",
              "  <div id=\"df-d47118ab-be3d-4ec6-b47b-ed0da037148d\" class=\"colab-df-container\">\n",
              "    <div>\n",
              "<style scoped>\n",
              "    .dataframe tbody tr th:only-of-type {\n",
              "        vertical-align: middle;\n",
              "    }\n",
              "\n",
              "    .dataframe tbody tr th {\n",
              "        vertical-align: top;\n",
              "    }\n",
              "\n",
              "    .dataframe thead th {\n",
              "        text-align: right;\n",
              "    }\n",
              "</style>\n",
              "<table border=\"1\" class=\"dataframe\">\n",
              "  <thead>\n",
              "    <tr style=\"text-align: right;\">\n",
              "      <th></th>\n",
              "      <th>Signal_Strength</th>\n",
              "      <th>Latency</th>\n",
              "      <th>Required_Bandwidth</th>\n",
              "      <th>Allocated_Bandwidth</th>\n",
              "      <th>Resource_Allocation</th>\n",
              "    </tr>\n",
              "  </thead>\n",
              "  <tbody>\n",
              "    <tr>\n",
              "      <th>count</th>\n",
              "      <td>400.000000</td>\n",
              "      <td>400.000000</td>\n",
              "      <td>400.000000</td>\n",
              "      <td>400.00000</td>\n",
              "      <td>400.000000</td>\n",
              "    </tr>\n",
              "    <tr>\n",
              "      <th>mean</th>\n",
              "      <td>-80.495000</td>\n",
              "      <td>33.825000</td>\n",
              "      <td>3135.512500</td>\n",
              "      <td>3502.38000</td>\n",
              "      <td>74.712500</td>\n",
              "    </tr>\n",
              "    <tr>\n",
              "      <th>std</th>\n",
              "      <td>20.701119</td>\n",
              "      <td>21.122139</td>\n",
              "      <td>3984.096715</td>\n",
              "      <td>4460.80117</td>\n",
              "      <td>8.982291</td>\n",
              "    </tr>\n",
              "    <tr>\n",
              "      <th>min</th>\n",
              "      <td>-123.000000</td>\n",
              "      <td>0.000000</td>\n",
              "      <td>0.000000</td>\n",
              "      <td>0.00000</td>\n",
              "      <td>50.000000</td>\n",
              "    </tr>\n",
              "    <tr>\n",
              "      <th>25%</th>\n",
              "      <td>-98.000000</td>\n",
              "      <td>21.750000</td>\n",
              "      <td>417.500000</td>\n",
              "      <td>417.50000</td>\n",
              "      <td>70.000000</td>\n",
              "    </tr>\n",
              "    <tr>\n",
              "      <th>50%</th>\n",
              "      <td>-83.000000</td>\n",
              "      <td>31.000000</td>\n",
              "      <td>1200.000000</td>\n",
              "      <td>1350.00000</td>\n",
              "      <td>70.000000</td>\n",
              "    </tr>\n",
              "    <tr>\n",
              "      <th>75%</th>\n",
              "      <td>-64.000000</td>\n",
              "      <td>45.000000</td>\n",
              "      <td>4100.000000</td>\n",
              "      <td>4425.00000</td>\n",
              "      <td>80.000000</td>\n",
              "    </tr>\n",
              "    <tr>\n",
              "      <th>max</th>\n",
              "      <td>-40.000000</td>\n",
              "      <td>110.000000</td>\n",
              "      <td>14500.000000</td>\n",
              "      <td>15800.00000</td>\n",
              "      <td>90.000000</td>\n",
              "    </tr>\n",
              "  </tbody>\n",
              "</table>\n",
              "</div>\n",
              "    <div class=\"colab-df-buttons\">\n",
              "\n",
              "  <div class=\"colab-df-container\">\n",
              "    <button class=\"colab-df-convert\" onclick=\"convertToInteractive('df-d47118ab-be3d-4ec6-b47b-ed0da037148d')\"\n",
              "            title=\"Convert this dataframe to an interactive table.\"\n",
              "            style=\"display:none;\">\n",
              "\n",
              "  <svg xmlns=\"http://www.w3.org/2000/svg\" height=\"24px\" viewBox=\"0 -960 960 960\">\n",
              "    <path d=\"M120-120v-720h720v720H120Zm60-500h600v-160H180v160Zm220 220h160v-160H400v160Zm0 220h160v-160H400v160ZM180-400h160v-160H180v160Zm440 0h160v-160H620v160ZM180-180h160v-160H180v160Zm440 0h160v-160H620v160Z\"/>\n",
              "  </svg>\n",
              "    </button>\n",
              "\n",
              "  <style>\n",
              "    .colab-df-container {\n",
              "      display:flex;\n",
              "      gap: 12px;\n",
              "    }\n",
              "\n",
              "    .colab-df-convert {\n",
              "      background-color: #E8F0FE;\n",
              "      border: none;\n",
              "      border-radius: 50%;\n",
              "      cursor: pointer;\n",
              "      display: none;\n",
              "      fill: #1967D2;\n",
              "      height: 32px;\n",
              "      padding: 0 0 0 0;\n",
              "      width: 32px;\n",
              "    }\n",
              "\n",
              "    .colab-df-convert:hover {\n",
              "      background-color: #E2EBFA;\n",
              "      box-shadow: 0px 1px 2px rgba(60, 64, 67, 0.3), 0px 1px 3px 1px rgba(60, 64, 67, 0.15);\n",
              "      fill: #174EA6;\n",
              "    }\n",
              "\n",
              "    .colab-df-buttons div {\n",
              "      margin-bottom: 4px;\n",
              "    }\n",
              "\n",
              "    [theme=dark] .colab-df-convert {\n",
              "      background-color: #3B4455;\n",
              "      fill: #D2E3FC;\n",
              "    }\n",
              "\n",
              "    [theme=dark] .colab-df-convert:hover {\n",
              "      background-color: #434B5C;\n",
              "      box-shadow: 0px 1px 3px 1px rgba(0, 0, 0, 0.15);\n",
              "      filter: drop-shadow(0px 1px 2px rgba(0, 0, 0, 0.3));\n",
              "      fill: #FFFFFF;\n",
              "    }\n",
              "  </style>\n",
              "\n",
              "    <script>\n",
              "      const buttonEl =\n",
              "        document.querySelector('#df-d47118ab-be3d-4ec6-b47b-ed0da037148d button.colab-df-convert');\n",
              "      buttonEl.style.display =\n",
              "        google.colab.kernel.accessAllowed ? 'block' : 'none';\n",
              "\n",
              "      async function convertToInteractive(key) {\n",
              "        const element = document.querySelector('#df-d47118ab-be3d-4ec6-b47b-ed0da037148d');\n",
              "        const dataTable =\n",
              "          await google.colab.kernel.invokeFunction('convertToInteractive',\n",
              "                                                    [key], {});\n",
              "        if (!dataTable) return;\n",
              "\n",
              "        const docLinkHtml = 'Like what you see? Visit the ' +\n",
              "          '<a target=\"_blank\" href=https://colab.research.google.com/notebooks/data_table.ipynb>data table notebook</a>'\n",
              "          + ' to learn more about interactive tables.';\n",
              "        element.innerHTML = '';\n",
              "        dataTable['output_type'] = 'display_data';\n",
              "        await google.colab.output.renderOutput(dataTable, element);\n",
              "        const docLink = document.createElement('div');\n",
              "        docLink.innerHTML = docLinkHtml;\n",
              "        element.appendChild(docLink);\n",
              "      }\n",
              "    </script>\n",
              "  </div>\n",
              "\n",
              "\n",
              "<div id=\"df-6979ea39-474d-4e81-bc10-245ef0245d3c\">\n",
              "  <button class=\"colab-df-quickchart\" onclick=\"quickchart('df-6979ea39-474d-4e81-bc10-245ef0245d3c')\"\n",
              "            title=\"Suggest charts\"\n",
              "            style=\"display:none;\">\n",
              "\n",
              "<svg xmlns=\"http://www.w3.org/2000/svg\" height=\"24px\"viewBox=\"0 0 24 24\"\n",
              "     width=\"24px\">\n",
              "    <g>\n",
              "        <path d=\"M19 3H5c-1.1 0-2 .9-2 2v14c0 1.1.9 2 2 2h14c1.1 0 2-.9 2-2V5c0-1.1-.9-2-2-2zM9 17H7v-7h2v7zm4 0h-2V7h2v10zm4 0h-2v-4h2v4z\"/>\n",
              "    </g>\n",
              "</svg>\n",
              "  </button>\n",
              "\n",
              "<style>\n",
              "  .colab-df-quickchart {\n",
              "      --bg-color: #E8F0FE;\n",
              "      --fill-color: #1967D2;\n",
              "      --hover-bg-color: #E2EBFA;\n",
              "      --hover-fill-color: #174EA6;\n",
              "      --disabled-fill-color: #AAA;\n",
              "      --disabled-bg-color: #DDD;\n",
              "  }\n",
              "\n",
              "  [theme=dark] .colab-df-quickchart {\n",
              "      --bg-color: #3B4455;\n",
              "      --fill-color: #D2E3FC;\n",
              "      --hover-bg-color: #434B5C;\n",
              "      --hover-fill-color: #FFFFFF;\n",
              "      --disabled-bg-color: #3B4455;\n",
              "      --disabled-fill-color: #666;\n",
              "  }\n",
              "\n",
              "  .colab-df-quickchart {\n",
              "    background-color: var(--bg-color);\n",
              "    border: none;\n",
              "    border-radius: 50%;\n",
              "    cursor: pointer;\n",
              "    display: none;\n",
              "    fill: var(--fill-color);\n",
              "    height: 32px;\n",
              "    padding: 0;\n",
              "    width: 32px;\n",
              "  }\n",
              "\n",
              "  .colab-df-quickchart:hover {\n",
              "    background-color: var(--hover-bg-color);\n",
              "    box-shadow: 0 1px 2px rgba(60, 64, 67, 0.3), 0 1px 3px 1px rgba(60, 64, 67, 0.15);\n",
              "    fill: var(--button-hover-fill-color);\n",
              "  }\n",
              "\n",
              "  .colab-df-quickchart-complete:disabled,\n",
              "  .colab-df-quickchart-complete:disabled:hover {\n",
              "    background-color: var(--disabled-bg-color);\n",
              "    fill: var(--disabled-fill-color);\n",
              "    box-shadow: none;\n",
              "  }\n",
              "\n",
              "  .colab-df-spinner {\n",
              "    border: 2px solid var(--fill-color);\n",
              "    border-color: transparent;\n",
              "    border-bottom-color: var(--fill-color);\n",
              "    animation:\n",
              "      spin 1s steps(1) infinite;\n",
              "  }\n",
              "\n",
              "  @keyframes spin {\n",
              "    0% {\n",
              "      border-color: transparent;\n",
              "      border-bottom-color: var(--fill-color);\n",
              "      border-left-color: var(--fill-color);\n",
              "    }\n",
              "    20% {\n",
              "      border-color: transparent;\n",
              "      border-left-color: var(--fill-color);\n",
              "      border-top-color: var(--fill-color);\n",
              "    }\n",
              "    30% {\n",
              "      border-color: transparent;\n",
              "      border-left-color: var(--fill-color);\n",
              "      border-top-color: var(--fill-color);\n",
              "      border-right-color: var(--fill-color);\n",
              "    }\n",
              "    40% {\n",
              "      border-color: transparent;\n",
              "      border-right-color: var(--fill-color);\n",
              "      border-top-color: var(--fill-color);\n",
              "    }\n",
              "    60% {\n",
              "      border-color: transparent;\n",
              "      border-right-color: var(--fill-color);\n",
              "    }\n",
              "    80% {\n",
              "      border-color: transparent;\n",
              "      border-right-color: var(--fill-color);\n",
              "      border-bottom-color: var(--fill-color);\n",
              "    }\n",
              "    90% {\n",
              "      border-color: transparent;\n",
              "      border-bottom-color: var(--fill-color);\n",
              "    }\n",
              "  }\n",
              "</style>\n",
              "\n",
              "  <script>\n",
              "    async function quickchart(key) {\n",
              "      const quickchartButtonEl =\n",
              "        document.querySelector('#' + key + ' button');\n",
              "      quickchartButtonEl.disabled = true;  // To prevent multiple clicks.\n",
              "      quickchartButtonEl.classList.add('colab-df-spinner');\n",
              "      try {\n",
              "        const charts = await google.colab.kernel.invokeFunction(\n",
              "            'suggestCharts', [key], {});\n",
              "      } catch (error) {\n",
              "        console.error('Error during call to suggestCharts:', error);\n",
              "      }\n",
              "      quickchartButtonEl.classList.remove('colab-df-spinner');\n",
              "      quickchartButtonEl.classList.add('colab-df-quickchart-complete');\n",
              "    }\n",
              "    (() => {\n",
              "      let quickchartButtonEl =\n",
              "        document.querySelector('#df-6979ea39-474d-4e81-bc10-245ef0245d3c button');\n",
              "      quickchartButtonEl.style.display =\n",
              "        google.colab.kernel.accessAllowed ? 'block' : 'none';\n",
              "    })();\n",
              "  </script>\n",
              "</div>\n",
              "    </div>\n",
              "  </div>\n"
            ]
          },
          "metadata": {},
          "execution_count": 9
        }
      ]
    },
    {
      "cell_type": "markdown",
      "source": [
        "3. Check for null values"
      ],
      "metadata": {
        "id": "PbI9EKaq5-yF"
      }
    },
    {
      "cell_type": "code",
      "source": [
        "df.isna().any()"
      ],
      "metadata": {
        "colab": {
          "base_uri": "https://localhost:8080/"
        },
        "id": "K-IZ-ObkzXbm",
        "outputId": "05fcb85e-e714-453e-b07e-3ae1bf1a1d66"
      },
      "execution_count": 10,
      "outputs": [
        {
          "output_type": "execute_result",
          "data": {
            "text/plain": [
              "Timestamp              False\n",
              "User_ID                False\n",
              "Application_Type       False\n",
              "Signal_Strength        False\n",
              "Latency                False\n",
              "Required_Bandwidth     False\n",
              "Allocated_Bandwidth    False\n",
              "Resource_Allocation    False\n",
              "dtype: bool"
            ]
          },
          "metadata": {},
          "execution_count": 10
        }
      ]
    },
    {
      "cell_type": "code",
      "source": [
        "df.isna().sum()"
      ],
      "metadata": {
        "colab": {
          "base_uri": "https://localhost:8080/"
        },
        "id": "qLcr76loza5L",
        "outputId": "77d2eaa7-3b05-4ea1-8218-053e35fd3223"
      },
      "execution_count": 11,
      "outputs": [
        {
          "output_type": "execute_result",
          "data": {
            "text/plain": [
              "Timestamp              0\n",
              "User_ID                0\n",
              "Application_Type       0\n",
              "Signal_Strength        0\n",
              "Latency                0\n",
              "Required_Bandwidth     0\n",
              "Allocated_Bandwidth    0\n",
              "Resource_Allocation    0\n",
              "dtype: int64"
            ]
          },
          "metadata": {},
          "execution_count": 11
        }
      ]
    },
    {
      "cell_type": "code",
      "source": [
        "df.shape"
      ],
      "metadata": {
        "colab": {
          "base_uri": "https://localhost:8080/"
        },
        "id": "Xl-twp3X4vPA",
        "outputId": "78ef4eea-930e-48c6-9dc0-468f9c39c3e4"
      },
      "execution_count": 12,
      "outputs": [
        {
          "output_type": "execute_result",
          "data": {
            "text/plain": [
              "(400, 8)"
            ]
          },
          "metadata": {},
          "execution_count": 12
        }
      ]
    },
    {
      "cell_type": "markdown",
      "source": [
        "4. DataVisualisation - Box plot for checking outliers"
      ],
      "metadata": {
        "id": "6kfEVNGL5zs2"
      }
    },
    {
      "cell_type": "code",
      "source": [
        "sns.countplot(x=df['Resource_Allocation'])"
      ],
      "metadata": {
        "colab": {
          "base_uri": "https://localhost:8080/",
          "height": 467
        },
        "id": "zDn6fwT84bIV",
        "outputId": "472a7ccc-9e86-448b-ec0b-e4b77bc26fde"
      },
      "execution_count": 13,
      "outputs": [
        {
          "output_type": "execute_result",
          "data": {
            "text/plain": [
              "<Axes: xlabel='Resource_Allocation', ylabel='count'>"
            ]
          },
          "metadata": {},
          "execution_count": 13
        },
        {
          "output_type": "display_data",
          "data": {
            "text/plain": [
              "<Figure size 640x480 with 1 Axes>"
            ],
            "image/png": "[encoded data removed]"
          },
          "metadata": {}
        }
      ]
    },
    {
      "cell_type": "code",
      "source": [
        "sns.boxplot(data=df, orient=\"h\", palette=\"Set2\")"
      ],
      "metadata": {
        "colab": {
          "base_uri": "https://localhost:8080/",
          "height": 447
        },
        "id": "_GPW58Rp4e94",
        "outputId": "a0327335-8ab7-4229-fa40-fd563bc2618b"
      },
      "execution_count": 14,
      "outputs": [
        {
          "output_type": "execute_result",
          "data": {
            "text/plain": [
              "<Axes: >"
            ]
          },
          "metadata": {},
          "execution_count": 14
        },
        {
          "output_type": "display_data",
          "data": {
            "text/plain": [
              "<Figure size 640x480 with 1 Axes>"
            ],
            "image/png": "[encoded data removed]"
          },
          "metadata": {}
        }
      ]
    },
    {
      "cell_type": "code",
      "source": [
        "sns.boxplot(df.Signal_Strength)"
      ],
      "metadata": {
        "colab": {
          "base_uri": "https://localhost:8080/",
          "height": 447
        },
        "id": "pkYiqHcjzcI3",
        "outputId": "2b798714-7c73-41c2-b17b-e0e5af725470"
      },
      "execution_count": 15,
      "outputs": [
        {
          "output_type": "execute_result",
          "data": {
            "text/plain": [
              "<Axes: >"
            ]
          },
          "metadata": {},
          "execution_count": 15
        },
        {
          "output_type": "display_data",
          "data": {
            "text/plain": [
              "<Figure size 640x480 with 1 Axes>"
            ],
            "image/png": "[encoded data removed]"
          },
          "metadata": {}
        }
      ]
    },
    {
      "cell_type": "code",
      "source": [
        "sns.boxplot(df.Latency)"
      ],
      "metadata": {
        "colab": {
          "base_uri": "https://localhost:8080/",
          "height": 447
        },
        "id": "fVfq3rN8zeER",
        "outputId": "44957371-356a-4fb3-94e7-ff04127ca48c"
      },
      "execution_count": 16,
      "outputs": [
        {
          "output_type": "execute_result",
          "data": {
            "text/plain": [
              "<Axes: >"
            ]
          },
          "metadata": {},
          "execution_count": 16
        },
        {
          "output_type": "display_data",
          "data": {
            "text/plain": [
              "<Figure size 640x480 with 1 Axes>"
            ],
            "image/png": "[encoded data removed]"
          },
          "metadata": {}
        }
      ]
    },
    {
      "cell_type": "code",
      "source": [
        "sns.boxplot(df.Required_Bandwidth)"
      ],
      "metadata": {
        "colab": {
          "base_uri": "https://localhost:8080/",
          "height": 447
        },
        "id": "NORGoLT4zfXK",
        "outputId": "9776c699-a9da-4ba4-f750-9e9fc75ed5b0"
      },
      "execution_count": 17,
      "outputs": [
        {
          "output_type": "execute_result",
          "data": {
            "text/plain": [
              "<Axes: >"
            ]
          },
          "metadata": {},
          "execution_count": 17
        },
        {
          "output_type": "display_data",
          "data": {
            "text/plain": [
              "<Figure size 640x480 with 1 Axes>"
            ],
            "image/png": "[encoded data removed]"
          },
          "metadata": {}
        }
      ]
    },
    {
      "cell_type": "code",
      "source": [
        "sns.boxplot(df.Allocated_Bandwidth)"
      ],
      "metadata": {
        "colab": {
          "base_uri": "https://localhost:8080/",
          "height": 447
        },
        "id": "hkn7qLYTzg29",
        "outputId": "d6162e10-3206-4db5-d979-2ca76927b25c"
      },
      "execution_count": 18,
      "outputs": [
        {
          "output_type": "execute_result",
          "data": {
            "text/plain": [
              "<Axes: >"
            ]
          },
          "metadata": {},
          "execution_count": 18
        },
        {
          "output_type": "display_data",
          "data": {
            "text/plain": [
              "<Figure size 640x480 with 1 Axes>"
            ],
            "image/png": "[encoded data removed]"
          },
          "metadata": {}
        }
      ]
    },
    {
      "cell_type": "code",
      "source": [
        "sns.boxplot(df.Resource_Allocation)"
      ],
      "metadata": {
        "colab": {
          "base_uri": "https://localhost:8080/",
          "height": 447
        },
        "id": "ttBm7kNBziVo",
        "outputId": "87d119d0-8da1-4e0f-8d1e-e6a79dadc5cc"
      },
      "execution_count": 19,
      "outputs": [
        {
          "output_type": "execute_result",
          "data": {
            "text/plain": [
              "<Axes: >"
            ]
          },
          "metadata": {},
          "execution_count": 19
        },
        {
          "output_type": "display_data",
          "data": {
            "text/plain": [
              "<Figure size 640x480 with 1 Axes>"
            ],
            "image/png": "[encoded data removed]"
          },
          "metadata": {}
        }
      ]
    },
    {
      "cell_type": "code",
      "source": [
        "df.median()"
      ],
      "metadata": {
        "colab": {
          "base_uri": "https://localhost:8080/"
        },
        "id": "jM3wZLbSzjwU",
        "outputId": "f60aa589-1a16-4879-a573-3a95a5d042ca"
      },
      "execution_count": 20,
      "outputs": [
        {
          "output_type": "stream",
          "name": "stderr",
          "text": [
            "<ipython-input-20-6d467abf240d>:1: FutureWarning: The default value of numeric_only in DataFrame.median is deprecated. In a future version, it will default to False. In addition, specifying 'numeric_only=None' is deprecated. Select only valid columns or specify the value of numeric_only to silence this warning.\n",
            "  df.median()\n"
          ]
        },
        {
          "output_type": "execute_result",
          "data": {
            "text/plain": [
              "Signal_Strength         -83.0\n",
              "Latency                  31.0\n",
              "Required_Bandwidth     1200.0\n",
              "Allocated_Bandwidth    1350.0\n",
              "Resource_Allocation      70.0\n",
              "dtype: float64"
            ]
          },
          "metadata": {},
          "execution_count": 20
        }
      ]
    },
    {
      "cell_type": "code",
      "source": [
        "Q1 = np.percentile(df['Latency'], 25, method='midpoint')\n",
        "Q3 = np.percentile(df['Latency'], 75, method='midpoint')\n",
        "\n",
        "IQR = Q3-Q1\n",
        "\n",
        "upper = Q3 + 1.5*IQR\n",
        "lower = Q1 - 1.5*IQR\n",
        "\n",
        "upper_val = np.where(df['Latency'] >= upper)\n",
        "lower_val = np.where(df['Latency'] <= lower)\n",
        "\n",
        "# Removing the outliers\n",
        "df.drop(upper_val[0], inplace=True)\n",
        "df.drop(lower_val[0], inplace=True)"
      ],
      "metadata": {
        "id": "KzRUtX43zlQA"
      },
      "execution_count": 21,
      "outputs": []
    },
    {
      "cell_type": "code",
      "source": [
        "sns.boxplot(df.Latency)"
      ],
      "metadata": {
        "colab": {
          "base_uri": "https://localhost:8080/",
          "height": 447
        },
        "id": "u_BGT_LBzvmc",
        "outputId": "9d93b119-4199-445e-b0e5-345858bace7e"
      },
      "execution_count": 22,
      "outputs": [
        {
          "output_type": "execute_result",
          "data": {
            "text/plain": [
              "<Axes: >"
            ]
          },
          "metadata": {},
          "execution_count": 22
        },
        {
          "output_type": "display_data",
          "data": {
            "text/plain": [
              "<Figure size 640x480 with 1 Axes>"
            ],
            "image/png": "[encoded data removed]"
          },
          "metadata": {}
        }
      ]
    },
    {
      "cell_type": "code",
      "source": [
        "df['Required_Bandwidth'] = np.sqrt(df['Required_Bandwidth'])\n",
        "sns.boxplot(data=df['Required_Bandwidth'])"
      ],
      "metadata": {
        "id": "l3Y9hOMMzw7A",
        "colab": {
          "base_uri": "https://localhost:8080/",
          "height": 447
        },
        "outputId": "ea4a5427-fa99-4f27-ac1b-37572c1ef649"
      },
      "execution_count": 23,
      "outputs": [
        {
          "output_type": "execute_result",
          "data": {
            "text/plain": [
              "<Axes: >"
            ]
          },
          "metadata": {},
          "execution_count": 23
        },
        {
          "output_type": "display_data",
          "data": {
            "text/plain": [
              "<Figure size 640x480 with 1 Axes>"
            ],
            "image/png": "[encoded data removed]"
          },
          "metadata": {}
        }
      ]
    },
    {
      "cell_type": "code",
      "source": [
        "q12 = df.Allocated_Bandwidth.quantile(0.25)\n",
        "q32 = df.Allocated_Bandwidth.quantile(0.75)\n",
        "IQR2 = q32-q12\n",
        "upper_limit2 = q32+1.5*IQR2"
      ],
      "metadata": {
        "id": "1gOG0U26z1ze"
      },
      "execution_count": 24,
      "outputs": []
    },
    {
      "cell_type": "code",
      "source": [
        "df['Allocated_Bandwidth'] = np.where(df['Allocated_Bandwidth']>upper_limit2,4,df['Allocated_Bandwidth'])"
      ],
      "metadata": {
        "id": "nGaU4t7Xz3kW"
      },
      "execution_count": 25,
      "outputs": []
    },
    {
      "cell_type": "code",
      "source": [
        "sns.boxplot(df.Allocated_Bandwidth)"
      ],
      "metadata": {
        "colab": {
          "base_uri": "https://localhost:8080/",
          "height": 447
        },
        "id": "bJd3LLJfz47_",
        "outputId": "166f6c65-166a-4ebc-f6be-135753ccc3d2"
      },
      "execution_count": 26,
      "outputs": [
        {
          "output_type": "execute_result",
          "data": {
            "text/plain": [
              "<Axes: >"
            ]
          },
          "metadata": {},
          "execution_count": 26
        },
        {
          "output_type": "display_data",
          "data": {
            "text/plain": [
              "<Figure size 640x480 with 1 Axes>"
            ],
            "image/png": "[encoded data removed]"
          },
          "metadata": {}
        }
      ]
    },
    {
      "cell_type": "code",
      "source": [
        "sns.boxplot(data=df)"
      ],
      "metadata": {
        "colab": {
          "base_uri": "https://localhost:8080/",
          "height": 447
        },
        "id": "uBnpNehs5DK5",
        "outputId": "47790491-5515-42c9-e781-ae43b8eeabb5"
      },
      "execution_count": 27,
      "outputs": [
        {
          "output_type": "execute_result",
          "data": {
            "text/plain": [
              "<Axes: >"
            ]
          },
          "metadata": {},
          "execution_count": 27
        },
        {
          "output_type": "display_data",
          "data": {
            "text/plain": [
              "<Figure size 640x480 with 1 Axes>"
            ],
            "image/png": "[encoded data removed]"
          },
          "metadata": {}
        }
      ]
    },
    {
      "cell_type": "markdown",
      "source": [
        "5.Splitting Dependent and Independent variables"
      ],
      "metadata": {
        "id": "2YkA5Q5Ez8tG"
      }
    },
    {
      "cell_type": "code",
      "source": [
        "x=df.iloc[:,2:7]\n",
        "x.head()"
      ],
      "metadata": {
        "colab": {
          "base_uri": "https://localhost:8080/",
          "height": 206
        },
        "id": "tRFNbZydz6mN",
        "outputId": "865dda4b-3bbd-4c2d-b154-581e1402bff8"
      },
      "execution_count": 28,
      "outputs": [
        {
          "output_type": "execute_result",
          "data": {
            "text/plain": [
              "    Application_Type  Signal_Strength  Latency  Required_Bandwidth  \\\n",
              "0         Video_Call              -75       30          100.000000   \n",
              "1         Voice_Call              -80       20           10.000000   \n",
              "2          Streaming              -85       40           70.710678   \n",
              "3  Emergency_Service              -70       10           31.622777   \n",
              "4      Online_Gaming              -78       25           44.721360   \n",
              "\n",
              "   Allocated_Bandwidth  \n",
              "0                  4.0  \n",
              "1                120.0  \n",
              "2               6000.0  \n",
              "3               1500.0  \n",
              "4               3000.0  "
            ],
            "text/html": [
              "\n",
              "  <div id=\"df-a11df157-057b-43cb-b81f-095b59a378da\" class=\"colab-df-container\">\n",
              "    <div>\n",
              "<style scoped>\n",
              "    .dataframe tbody tr th:only-of-type {\n",
              "        vertical-align: middle;\n",
              "    }\n",
              "\n",
              "    .dataframe tbody tr th {\n",
              "        vertical-align: top;\n",
              "    }\n",
              "\n",
              "    .dataframe thead th {\n",
              "        text-align: right;\n",
              "    }\n",
              "</style>\n",
              "<table border=\"1\" class=\"dataframe\">\n",
              "  <thead>\n",
              "    <tr style=\"text-align: right;\">\n",
              "      <th></th>\n",
              "      <th>Application_Type</th>\n",
              "      <th>Signal_Strength</th>\n",
              "      <th>Latency</th>\n",
              "      <th>Required_Bandwidth</th>\n",
              "      <th>Allocated_Bandwidth</th>\n",
              "    </tr>\n",
              "  </thead>\n",
              "  <tbody>\n",
              "    <tr>\n",
              "      <th>0</th>\n",
              "      <td>Video_Call</td>\n",
              "      <td>-75</td>\n",
              "      <td>30</td>\n",
              "      <td>100.000000</td>\n",
              "      <td>4.0</td>\n",
              "    </tr>\n",
              "    <tr>\n",
              "      <th>1</th>\n",
              "      <td>Voice_Call</td>\n",
              "      <td>-80</td>\n",
              "      <td>20</td>\n",
              "      <td>10.000000</td>\n",
              "      <td>120.0</td>\n",
              "    </tr>\n",
              "    <tr>\n",
              "      <th>2</th>\n",
              "      <td>Streaming</td>\n",
              "      <td>-85</td>\n",
              "      <td>40</td>\n",
              "      <td>70.710678</td>\n",
              "      <td>6000.0</td>\n",
              "    </tr>\n",
              "    <tr>\n",
              "      <th>3</th>\n",
              "      <td>Emergency_Service</td>\n",
              "      <td>-70</td>\n",
              "      <td>10</td>\n",
              "      <td>31.622777</td>\n",
              "      <td>1500.0</td>\n",
              "    </tr>\n",
              "    <tr>\n",
              "      <th>4</th>\n",
              "      <td>Online_Gaming</td>\n",
              "      <td>-78</td>\n",
              "      <td>25</td>\n",
              "      <td>44.721360</td>\n",
              "      <td>3000.0</td>\n",
              "    </tr>\n",
              "  </tbody>\n",
              "</table>\n",
              "</div>\n",
              "    <div class=\"colab-df-buttons\">\n",
              "\n",
              "  <div class=\"colab-df-container\">\n",
              "    <button class=\"colab-df-convert\" onclick=\"convertToInteractive('df-a11df157-057b-43cb-b81f-095b59a378da')\"\n",
              "            title=\"Convert this dataframe to an interactive table.\"\n",
              "            style=\"display:none;\">\n",
              "\n",
              "  <svg xmlns=\"http://www.w3.org/2000/svg\" height=\"24px\" viewBox=\"0 -960 960 960\">\n",
              "    <path d=\"M120-120v-720h720v720H120Zm60-500h600v-160H180v160Zm220 220h160v-160H400v160Zm0 220h160v-160H400v160ZM180-400h160v-160H180v160Zm440 0h160v-160H620v160ZM180-180h160v-160H180v160Zm440 0h160v-160H620v160Z\"/>\n",
              "  </svg>\n",
              "    </button>\n",
              "\n",
              "  <style>\n",
              "    .colab-df-container {\n",
              "      display:flex;\n",
              "      gap: 12px;\n",
              "    }\n",
              "\n",
              "    .colab-df-convert {\n",
              "      background-color: #E8F0FE;\n",
              "      border: none;\n",
              "      border-radius: 50%;\n",
              "      cursor: pointer;\n",
              "      display: none;\n",
              "      fill: #1967D2;\n",
              "      height: 32px;\n",
              "      padding: 0 0 0 0;\n",
              "      width: 32px;\n",
              "    }\n",
              "\n",
              "    .colab-df-convert:hover {\n",
              "      background-color: #E2EBFA;\n",
              "      box-shadow: 0px 1px 2px rgba(60, 64, 67, 0.3), 0px 1px 3px 1px rgba(60, 64, 67, 0.15);\n",
              "      fill: #174EA6;\n",
              "    }\n",
              "\n",
              "    .colab-df-buttons div {\n",
              "      margin-bottom: 4px;\n",
              "    }\n",
              "\n",
              "    [theme=dark] .colab-df-convert {\n",
              "      background-color: #3B4455;\n",
              "      fill: #D2E3FC;\n",
              "    }\n",
              "\n",
              "    [theme=dark] .colab-df-convert:hover {\n",
              "      background-color: #434B5C;\n",
              "      box-shadow: 0px 1px 3px 1px rgba(0, 0, 0, 0.15);\n",
              "      filter: drop-shadow(0px 1px 2px rgba(0, 0, 0, 0.3));\n",
              "      fill: #FFFFFF;\n",
              "    }\n",
              "  </style>\n",
              "\n",
              "    <script>\n",
              "      const buttonEl =\n",
              "        document.querySelector('#df-a11df157-057b-43cb-b81f-095b59a378da button.colab-df-convert');\n",
              "      buttonEl.style.display =\n",
              "        google.colab.kernel.accessAllowed ? 'block' : 'none';\n",
              "\n",
              "      async function convertToInteractive(key) {\n",
              "        const element = document.querySelector('#df-a11df157-057b-43cb-b81f-095b59a378da');\n",
              "        const dataTable =\n",
              "          await google.colab.kernel.invokeFunction('convertToInteractive',\n",
              "                                                    [key], {});\n",
              "        if (!dataTable) return;\n",
              "\n",
              "        const docLinkHtml = 'Like what you see? Visit the ' +\n",
              "          '<a target=\"_blank\" href=https://colab.research.google.com/notebooks/data_table.ipynb>data table notebook</a>'\n",
              "          + ' to learn more about interactive tables.';\n",
              "        element.innerHTML = '';\n",
              "        dataTable['output_type'] = 'display_data';\n",
              "        await google.colab.output.renderOutput(dataTable, element);\n",
              "        const docLink = document.createElement('div');\n",
              "        docLink.innerHTML = docLinkHtml;\n",
              "        element.appendChild(docLink);\n",
              "      }\n",
              "    </script>\n",
              "  </div>\n",
              "\n",
              "\n",
              "<div id=\"df-cf8ae837-758d-4a8c-983b-dff42b227391\">\n",
              "  <button class=\"colab-df-quickchart\" onclick=\"quickchart('df-cf8ae837-758d-4a8c-983b-dff42b227391')\"\n",
              "            title=\"Suggest charts\"\n",
              "            style=\"display:none;\">\n",
              "\n",
              "<svg xmlns=\"http://www.w3.org/2000/svg\" height=\"24px\"viewBox=\"0 0 24 24\"\n",
              "     width=\"24px\">\n",
              "    <g>\n",
              "        <path d=\"M19 3H5c-1.1 0-2 .9-2 2v14c0 1.1.9 2 2 2h14c1.1 0 2-.9 2-2V5c0-1.1-.9-2-2-2zM9 17H7v-7h2v7zm4 0h-2V7h2v10zm4 0h-2v-4h2v4z\"/>\n",
              "    </g>\n",
              "</svg>\n",
              "  </button>\n",
              "\n",
              "<style>\n",
              "  .colab-df-quickchart {\n",
              "      --bg-color: #E8F0FE;\n",
              "      --fill-color: #1967D2;\n",
              "      --hover-bg-color: #E2EBFA;\n",
              "      --hover-fill-color: #174EA6;\n",
              "      --disabled-fill-color: #AAA;\n",
              "      --disabled-bg-color: #DDD;\n",
              "  }\n",
              "\n",
              "  [theme=dark] .colab-df-quickchart {\n",
              "      --bg-color: #3B4455;\n",
              "      --fill-color: #D2E3FC;\n",
              "      --hover-bg-color: #434B5C;\n",
              "      --hover-fill-color: #FFFFFF;\n",
              "      --disabled-bg-color: #3B4455;\n",
              "      --disabled-fill-color: #666;\n",
              "  }\n",
              "\n",
              "  .colab-df-quickchart {\n",
              "    background-color: var(--bg-color);\n",
              "    border: none;\n",
              "    border-radius: 50%;\n",
              "    cursor: pointer;\n",
              "    display: none;\n",
              "    fill: var(--fill-color);\n",
              "    height: 32px;\n",
              "    padding: 0;\n",
              "    width: 32px;\n",
              "  }\n",
              "\n",
              "  .colab-df-quickchart:hover {\n",
              "    background-color: var(--hover-bg-color);\n",
              "    box-shadow: 0 1px 2px rgba(60, 64, 67, 0.3), 0 1px 3px 1px rgba(60, 64, 67, 0.15);\n",
              "    fill: var(--button-hover-fill-color);\n",
              "  }\n",
              "\n",
              "  .colab-df-quickchart-complete:disabled,\n",
              "  .colab-df-quickchart-complete:disabled:hover {\n",
              "    background-color: var(--disabled-bg-color);\n",
              "    fill: var(--disabled-fill-color);\n",
              "    box-shadow: none;\n",
              "  }\n",
              "\n",
              "  .colab-df-spinner {\n",
              "    border: 2px solid var(--fill-color);\n",
              "    border-color: transparent;\n",
              "    border-bottom-color: var(--fill-color);\n",
              "    animation:\n",
              "      spin 1s steps(1) infinite;\n",
              "  }\n",
              "\n",
              "  @keyframes spin {\n",
              "    0% {\n",
              "      border-color: transparent;\n",
              "      border-bottom-color: var(--fill-color);\n",
              "      border-left-color: var(--fill-color);\n",
              "    }\n",
              "    20% {\n",
              "      border-color: transparent;\n",
              "      border-left-color: var(--fill-color);\n",
              "      border-top-color: var(--fill-color);\n",
              "    }\n",
              "    30% {\n",
              "      border-color: transparent;\n",
              "      border-left-color: var(--fill-color);\n",
              "      border-top-color: var(--fill-color);\n",
              "      border-right-color: var(--fill-color);\n",
              "    }\n",
              "    40% {\n",
              "      border-color: transparent;\n",
              "      border-right-color: var(--fill-color);\n",
              "      border-top-color: var(--fill-color);\n",
              "    }\n",
              "    60% {\n",
              "      border-color: transparent;\n",
              "      border-right-color: var(--fill-color);\n",
              "    }\n",
              "    80% {\n",
              "      border-color: transparent;\n",
              "      border-right-color: var(--fill-color);\n",
              "      border-bottom-color: var(--fill-color);\n",
              "    }\n",
              "    90% {\n",
              "      border-color: transparent;\n",
              "      border-bottom-color: var(--fill-color);\n",
              "    }\n",
              "  }\n",
              "</style>\n",
              "\n",
              "  <script>\n",
              "    async function quickchart(key) {\n",
              "      const quickchartButtonEl =\n",
              "        document.querySelector('#' + key + ' button');\n",
              "      quickchartButtonEl.disabled = true;  // To prevent multiple clicks.\n",
              "      quickchartButtonEl.classList.add('colab-df-spinner');\n",
              "      try {\n",
              "        const charts = await google.colab.kernel.invokeFunction(\n",
              "            'suggestCharts', [key], {});\n",
              "      } catch (error) {\n",
              "        console.error('Error during call to suggestCharts:', error);\n",
              "      }\n",
              "      quickchartButtonEl.classList.remove('colab-df-spinner');\n",
              "      quickchartButtonEl.classList.add('colab-df-quickchart-complete');\n",
              "    }\n",
              "    (() => {\n",
              "      let quickchartButtonEl =\n",
              "        document.querySelector('#df-cf8ae837-758d-4a8c-983b-dff42b227391 button');\n",
              "      quickchartButtonEl.style.display =\n",
              "        google.colab.kernel.accessAllowed ? 'block' : 'none';\n",
              "    })();\n",
              "  </script>\n",
              "</div>\n",
              "    </div>\n",
              "  </div>\n"
            ]
          },
          "metadata": {},
          "execution_count": 28
        }
      ]
    },
    {
      "cell_type": "code",
      "source": [
        "y=df[\"Resource_Allocation\"]\n",
        "y.head()"
      ],
      "metadata": {
        "colab": {
          "base_uri": "https://localhost:8080/"
        },
        "id": "u2OAZrwLz-9L",
        "outputId": "4a557122-1a5e-4c8a-8573-c45f166c264b"
      },
      "execution_count": 29,
      "outputs": [
        {
          "output_type": "execute_result",
          "data": {
            "text/plain": [
              "0    70\n",
              "1    80\n",
              "2    75\n",
              "3    90\n",
              "4    85\n",
              "Name: Resource_Allocation, dtype: int64"
            ]
          },
          "metadata": {},
          "execution_count": 29
        }
      ]
    },
    {
      "cell_type": "markdown",
      "source": [
        "6.Label Encoding"
      ],
      "metadata": {
        "id": "BzkLFNb571ea"
      }
    },
    {
      "cell_type": "code",
      "source": [
        "from sklearn.preprocessing import LabelEncoder\n",
        "le=LabelEncoder()"
      ],
      "metadata": {
        "id": "LDyyC9ec70de"
      },
      "execution_count": 30,
      "outputs": []
    },
    {
      "cell_type": "code",
      "source": [
        "x[\"Application_Type\"]=le.fit_transform(x[\"Application_Type\"])"
      ],
      "metadata": {
        "id": "eDQg1ROk0EjJ"
      },
      "execution_count": 31,
      "outputs": []
    },
    {
      "cell_type": "code",
      "source": [
        "print(le.classes_)"
      ],
      "metadata": {
        "colab": {
          "base_uri": "https://localhost:8080/"
        },
        "id": "pWAPwQuX0HCp",
        "outputId": "b125c286-2ab2-4f8e-ebeb-32ef4efcb97d"
      },
      "execution_count": 32,
      "outputs": [
        {
          "output_type": "stream",
          "name": "stdout",
          "text": [
            "['Background_Download' 'Emergency_Service' 'File_Download' 'Online_Gaming'\n",
            " 'Streaming' 'Video_Call' 'Video_Streaming' 'VoIP_Call' 'Voice_Call'\n",
            " 'Web_Browsing']\n"
          ]
        }
      ]
    },
    {
      "cell_type": "code",
      "source": [
        "mapping=dict(zip(le.classes_,range(len(le.classes_))))\n",
        "mapping"
      ],
      "metadata": {
        "colab": {
          "base_uri": "https://localhost:8080/"
        },
        "id": "8BkHRLKE0Kf2",
        "outputId": "a5f9b49b-07fc-4606-8f28-d0d0b1ac9bcf"
      },
      "execution_count": 33,
      "outputs": [
        {
          "output_type": "execute_result",
          "data": {
            "text/plain": [
              "{'Background_Download': 0,\n",
              " 'Emergency_Service': 1,\n",
              " 'File_Download': 2,\n",
              " 'Online_Gaming': 3,\n",
              " 'Streaming': 4,\n",
              " 'Video_Call': 5,\n",
              " 'Video_Streaming': 6,\n",
              " 'VoIP_Call': 7,\n",
              " 'Voice_Call': 8,\n",
              " 'Web_Browsing': 9}"
            ]
          },
          "metadata": {},
          "execution_count": 33
        }
      ]
    },
    {
      "cell_type": "markdown",
      "source": [
        "7.Feature scaling"
      ],
      "metadata": {
        "id": "__80xpoh8CVS"
      }
    },
    {
      "cell_type": "code",
      "source": [
        "from sklearn.preprocessing import MinMaxScaler\n",
        "ms=MinMaxScaler()"
      ],
      "metadata": {
        "id": "5dA4WwHW8Ei5"
      },
      "execution_count": 34,
      "outputs": []
    },
    {
      "cell_type": "code",
      "source": [
        "x_Scaled=ms.fit_transform(x)"
      ],
      "metadata": {
        "id": "yfTgMtsz8Elh"
      },
      "execution_count": 35,
      "outputs": []
    },
    {
      "cell_type": "code",
      "source": [
        "x_Scaled=pd.DataFrame(ms.fit_transform(x),columns=x.columns)"
      ],
      "metadata": {
        "id": "_1HUVVGg09eL"
      },
      "execution_count": 36,
      "outputs": []
    },
    {
      "cell_type": "code",
      "source": [
        "x_Scaled.head()"
      ],
      "metadata": {
        "colab": {
          "base_uri": "https://localhost:8080/",
          "height": 206
        },
        "id": "RnLa-AFU1AC_",
        "outputId": "9da10904-b325-44ff-85e4-29f0d90dc509"
      },
      "execution_count": 37,
      "outputs": [
        {
          "output_type": "execute_result",
          "data": {
            "text/plain": [
              "   Application_Type  Signal_Strength   Latency  Required_Bandwidth  \\\n",
              "0          0.555556         0.578313  0.384615            0.830455   \n",
              "1          0.888889         0.518072  0.256410            0.083045   \n",
              "2          0.444444         0.457831  0.512821            0.587220   \n",
              "3          0.111111         0.638554  0.128205            0.262613   \n",
              "4          0.333333         0.542169  0.320513            0.371391   \n",
              "\n",
              "   Allocated_Bandwidth  \n",
              "0             0.000606  \n",
              "1             0.018182  \n",
              "2             0.909091  \n",
              "3             0.227273  \n",
              "4             0.454545  "
            ],
            "text/html": [
              "\n",
              "  <div id=\"df-297a2136-17a7-4064-aa06-3b4910f1ac83\" class=\"colab-df-container\">\n",
              "    <div>\n",
              "<style scoped>\n",
              "    .dataframe tbody tr th:only-of-type {\n",
              "        vertical-align: middle;\n",
              "    }\n",
              "\n",
              "    .dataframe tbody tr th {\n",
              "        vertical-align: top;\n",
              "    }\n",
              "\n",
              "    .dataframe thead th {\n",
              "        text-align: right;\n",
              "    }\n",
              "</style>\n",
              "<table border=\"1\" class=\"dataframe\">\n",
              "  <thead>\n",
              "    <tr style=\"text-align: right;\">\n",
              "      <th></th>\n",
              "      <th>Application_Type</th>\n",
              "      <th>Signal_Strength</th>\n",
              "      <th>Latency</th>\n",
              "      <th>Required_Bandwidth</th>\n",
              "      <th>Allocated_Bandwidth</th>\n",
              "    </tr>\n",
              "  </thead>\n",
              "  <tbody>\n",
              "    <tr>\n",
              "      <th>0</th>\n",
              "      <td>0.555556</td>\n",
              "      <td>0.578313</td>\n",
              "      <td>0.384615</td>\n",
              "      <td>0.830455</td>\n",
              "      <td>0.000606</td>\n",
              "    </tr>\n",
              "    <tr>\n",
              "      <th>1</th>\n",
              "      <td>0.888889</td>\n",
              "      <td>0.518072</td>\n",
              "      <td>0.256410</td>\n",
              "      <td>0.083045</td>\n",
              "      <td>0.018182</td>\n",
              "    </tr>\n",
              "    <tr>\n",
              "      <th>2</th>\n",
              "      <td>0.444444</td>\n",
              "      <td>0.457831</td>\n",
              "      <td>0.512821</td>\n",
              "      <td>0.587220</td>\n",
              "      <td>0.909091</td>\n",
              "    </tr>\n",
              "    <tr>\n",
              "      <th>3</th>\n",
              "      <td>0.111111</td>\n",
              "      <td>0.638554</td>\n",
              "      <td>0.128205</td>\n",
              "      <td>0.262613</td>\n",
              "      <td>0.227273</td>\n",
              "    </tr>\n",
              "    <tr>\n",
              "      <th>4</th>\n",
              "      <td>0.333333</td>\n",
              "      <td>0.542169</td>\n",
              "      <td>0.320513</td>\n",
              "      <td>0.371391</td>\n",
              "      <td>0.454545</td>\n",
              "    </tr>\n",
              "  </tbody>\n",
              "</table>\n",
              "</div>\n",
              "    <div class=\"colab-df-buttons\">\n",
              "\n",
              "  <div class=\"colab-df-container\">\n",
              "    <button class=\"colab-df-convert\" onclick=\"convertToInteractive('df-297a2136-17a7-4064-aa06-3b4910f1ac83')\"\n",
              "            title=\"Convert this dataframe to an interactive table.\"\n",
              "            style=\"display:none;\">\n",
              "\n",
              "  <svg xmlns=\"http://www.w3.org/2000/svg\" height=\"24px\" viewBox=\"0 -960 960 960\">\n",
              "    <path d=\"M120-120v-720h720v720H120Zm60-500h600v-160H180v160Zm220 220h160v-160H400v160Zm0 220h160v-160H400v160ZM180-400h160v-160H180v160Zm440 0h160v-160H620v160ZM180-180h160v-160H180v160Zm440 0h160v-160H620v160Z\"/>\n",
              "  </svg>\n",
              "    </button>\n",
              "\n",
              "  <style>\n",
              "    .colab-df-container {\n",
              "      display:flex;\n",
              "      gap: 12px;\n",
              "    }\n",
              "\n",
              "    .colab-df-convert {\n",
              "      background-color: #E8F0FE;\n",
              "      border: none;\n",
              "      border-radius: 50%;\n",
              "      cursor: pointer;\n",
              "      display: none;\n",
              "      fill: #1967D2;\n",
              "      height: 32px;\n",
              "      padding: 0 0 0 0;\n",
              "      width: 32px;\n",
              "    }\n",
              "\n",
              "    .colab-df-convert:hover {\n",
              "      background-color: #E2EBFA;\n",
              "      box-shadow: 0px 1px 2px rgba(60, 64, 67, 0.3), 0px 1px 3px 1px rgba(60, 64, 67, 0.15);\n",
              "      fill: #174EA6;\n",
              "    }\n",
              "\n",
              "    .colab-df-buttons div {\n",
              "      margin-bottom: 4px;\n",
              "    }\n",
              "\n",
              "    [theme=dark] .colab-df-convert {\n",
              "      background-color: #3B4455;\n",
              "      fill: #D2E3FC;\n",
              "    }\n",
              "\n",
              "    [theme=dark] .colab-df-convert:hover {\n",
              "      background-color: #434B5C;\n",
              "      box-shadow: 0px 1px 3px 1px rgba(0, 0, 0, 0.15);\n",
              "      filter: drop-shadow(0px 1px 2px rgba(0, 0, 0, 0.3));\n",
              "      fill: #FFFFFF;\n",
              "    }\n",
              "  </style>\n",
              "\n",
              "    <script>\n",
              "      const buttonEl =\n",
              "        document.querySelector('#df-297a2136-17a7-4064-aa06-3b4910f1ac83 button.colab-df-convert');\n",
              "      buttonEl.style.display =\n",
              "        google.colab.kernel.accessAllowed ? 'block' : 'none';\n",
              "\n",
              "      async function convertToInteractive(key) {\n",
              "        const element = document.querySelector('#df-297a2136-17a7-4064-aa06-3b4910f1ac83');\n",
              "        const dataTable =\n",
              "          await google.colab.kernel.invokeFunction('convertToInteractive',\n",
              "                                                    [key], {});\n",
              "        if (!dataTable) return;\n",
              "\n",
              "        const docLinkHtml = 'Like what you see? Visit the ' +\n",
              "          '<a target=\"_blank\" href=https://colab.research.google.com/notebooks/data_table.ipynb>data table notebook</a>'\n",
              "          + ' to learn more about interactive tables.';\n",
              "        element.innerHTML = '';\n",
              "        dataTable['output_type'] = 'display_data';\n",
              "        await google.colab.output.renderOutput(dataTable, element);\n",
              "        const docLink = document.createElement('div');\n",
              "        docLink.innerHTML = docLinkHtml;\n",
              "        element.appendChild(docLink);\n",
              "      }\n",
              "    </script>\n",
              "  </div>\n",
              "\n",
              "\n",
              "<div id=\"df-076725ff-2cdc-4159-8829-5f49bc8f6522\">\n",
              "  <button class=\"colab-df-quickchart\" onclick=\"quickchart('df-076725ff-2cdc-4159-8829-5f49bc8f6522')\"\n",
              "            title=\"Suggest charts\"\n",
              "            style=\"display:none;\">\n",
              "\n",
              "<svg xmlns=\"http://www.w3.org/2000/svg\" height=\"24px\"viewBox=\"0 0 24 24\"\n",
              "     width=\"24px\">\n",
              "    <g>\n",
              "        <path d=\"M19 3H5c-1.1 0-2 .9-2 2v14c0 1.1.9 2 2 2h14c1.1 0 2-.9 2-2V5c0-1.1-.9-2-2-2zM9 17H7v-7h2v7zm4 0h-2V7h2v10zm4 0h-2v-4h2v4z\"/>\n",
              "    </g>\n",
              "</svg>\n",
              "  </button>\n",
              "\n",
              "<style>\n",
              "  .colab-df-quickchart {\n",
              "      --bg-color: #E8F0FE;\n",
              "      --fill-color: #1967D2;\n",
              "      --hover-bg-color: #E2EBFA;\n",
              "      --hover-fill-color: #174EA6;\n",
              "      --disabled-fill-color: #AAA;\n",
              "      --disabled-bg-color: #DDD;\n",
              "  }\n",
              "\n",
              "  [theme=dark] .colab-df-quickchart {\n",
              "      --bg-color: #3B4455;\n",
              "      --fill-color: #D2E3FC;\n",
              "      --hover-bg-color: #434B5C;\n",
              "      --hover-fill-color: #FFFFFF;\n",
              "      --disabled-bg-color: #3B4455;\n",
              "      --disabled-fill-color: #666;\n",
              "  }\n",
              "\n",
              "  .colab-df-quickchart {\n",
              "    background-color: var(--bg-color);\n",
              "    border: none;\n",
              "    border-radius: 50%;\n",
              "    cursor: pointer;\n",
              "    display: none;\n",
              "    fill: var(--fill-color);\n",
              "    height: 32px;\n",
              "    padding: 0;\n",
              "    width: 32px;\n",
              "  }\n",
              "\n",
              "  .colab-df-quickchart:hover {\n",
              "    background-color: var(--hover-bg-color);\n",
              "    box-shadow: 0 1px 2px rgba(60, 64, 67, 0.3), 0 1px 3px 1px rgba(60, 64, 67, 0.15);\n",
              "    fill: var(--button-hover-fill-color);\n",
              "  }\n",
              "\n",
              "  .colab-df-quickchart-complete:disabled,\n",
              "  .colab-df-quickchart-complete:disabled:hover {\n",
              "    background-color: var(--disabled-bg-color);\n",
              "    fill: var(--disabled-fill-color);\n",
              "    box-shadow: none;\n",
              "  }\n",
              "\n",
              "  .colab-df-spinner {\n",
              "    border: 2px solid var(--fill-color);\n",
              "    border-color: transparent;\n",
              "    border-bottom-color: var(--fill-color);\n",
              "    animation:\n",
              "      spin 1s steps(1) infinite;\n",
              "  }\n",
              "\n",
              "  @keyframes spin {\n",
              "    0% {\n",
              "      border-color: transparent;\n",
              "      border-bottom-color: var(--fill-color);\n",
              "      border-left-color: var(--fill-color);\n",
              "    }\n",
              "    20% {\n",
              "      border-color: transparent;\n",
              "      border-left-color: var(--fill-color);\n",
              "      border-top-color: var(--fill-color);\n",
              "    }\n",
              "    30% {\n",
              "      border-color: transparent;\n",
              "      border-left-color: var(--fill-color);\n",
              "      border-top-color: var(--fill-color);\n",
              "      border-right-color: var(--fill-color);\n",
              "    }\n",
              "    40% {\n",
              "      border-color: transparent;\n",
              "      border-right-color: var(--fill-color);\n",
              "      border-top-color: var(--fill-color);\n",
              "    }\n",
              "    60% {\n",
              "      border-color: transparent;\n",
              "      border-right-color: var(--fill-color);\n",
              "    }\n",
              "    80% {\n",
              "      border-color: transparent;\n",
              "      border-right-color: var(--fill-color);\n",
              "      border-bottom-color: var(--fill-color);\n",
              "    }\n",
              "    90% {\n",
              "      border-color: transparent;\n",
              "      border-bottom-color: var(--fill-color);\n",
              "    }\n",
              "  }\n",
              "</style>\n",
              "\n",
              "  <script>\n",
              "    async function quickchart(key) {\n",
              "      const quickchartButtonEl =\n",
              "        document.querySelector('#' + key + ' button');\n",
              "      quickchartButtonEl.disabled = true;  // To prevent multiple clicks.\n",
              "      quickchartButtonEl.classList.add('colab-df-spinner');\n",
              "      try {\n",
              "        const charts = await google.colab.kernel.invokeFunction(\n",
              "            'suggestCharts', [key], {});\n",
              "      } catch (error) {\n",
              "        console.error('Error during call to suggestCharts:', error);\n",
              "      }\n",
              "      quickchartButtonEl.classList.remove('colab-df-spinner');\n",
              "      quickchartButtonEl.classList.add('colab-df-quickchart-complete');\n",
              "    }\n",
              "    (() => {\n",
              "      let quickchartButtonEl =\n",
              "        document.querySelector('#df-076725ff-2cdc-4159-8829-5f49bc8f6522 button');\n",
              "      quickchartButtonEl.style.display =\n",
              "        google.colab.kernel.accessAllowed ? 'block' : 'none';\n",
              "    })();\n",
              "  </script>\n",
              "</div>\n",
              "    </div>\n",
              "  </div>\n"
            ]
          },
          "metadata": {},
          "execution_count": 37
        }
      ]
    },
    {
      "cell_type": "markdown",
      "source": [
        "8.Train test split"
      ],
      "metadata": {
        "id": "LQmN_CrN1ENG"
      }
    },
    {
      "cell_type": "code",
      "source": [
        "from sklearn.model_selection import train_test_split\n",
        "x_train,x_test,y_train,y_test = train_test_split(x_Scaled,y,test_size =0.2,random_state =0)"
      ],
      "metadata": {
        "id": "_I3v7m6y1BYM"
      },
      "execution_count": 38,
      "outputs": []
    },
    {
      "cell_type": "code",
      "source": [
        "print(x_train.shape,x_test.shape,y_train.shape,y_test.shape)"
      ],
      "metadata": {
        "colab": {
          "base_uri": "https://localhost:8080/"
        },
        "id": "eOLG0q0q1G05",
        "outputId": "03962bf1-549f-4705-cbef-18445a206fe4"
      },
      "execution_count": 39,
      "outputs": [
        {
          "output_type": "stream",
          "name": "stdout",
          "text": [
            "(309, 5) (78, 5) (309,) (78,)\n"
          ]
        }
      ]
    },
    {
      "cell_type": "markdown",
      "source": [
        "9.Model Building"
      ],
      "metadata": {
        "id": "8Lu3NpfL1N2x"
      }
    },
    {
      "cell_type": "markdown",
      "source": [
        "9.1 - Linear Regression Model"
      ],
      "metadata": {
        "id": "PWTfR2E68Zeq"
      }
    },
    {
      "cell_type": "code",
      "source": [
        "from sklearn.linear_model import LinearRegression\n",
        "modellr = LinearRegression()\n",
        "modellr.fit(x_train,y_train)"
      ],
      "metadata": {
        "colab": {
          "base_uri": "https://localhost:8080/",
          "height": 74
        },
        "id": "5UkaWNnn8Zo6",
        "outputId": "7f97b935-8e17-4249-df24-21feb138a746"
      },
      "execution_count": 40,
      "outputs": [
        {
          "output_type": "execute_result",
          "data": {
            "text/plain": [
              "LinearRegression()"
            ],
            "text/html": [
              "<style>#sk-container-id-1 {color: black;background-color: white;}#sk-container-id-1 pre{padding: 0;}#sk-container-id-1 div.sk-toggleable {background-color: white;}#sk-container-id-1 label.sk-toggleable__label {cursor: pointer;display: block;width: 100%;margin-bottom: 0;padding: 0.3em;box-sizing: border-box;text-align: center;}#sk-container-id-1 label.sk-toggleable__label-arrow:before {content: \"▸\";float: left;margin-right: 0.25em;color: #696969;}#sk-container-id-1 label.sk-toggleable__label-arrow:hover:before {color: black;}#sk-container-id-1 div.sk-estimator:hover label.sk-toggleable__label-arrow:before {color: black;}#sk-container-id-1 div.sk-toggleable__content {max-height: 0;max-width: 0;overflow: hidden;text-align: left;background-color: #f0f8ff;}#sk-container-id-1 div.sk-toggleable__content pre {margin: 0.2em;color: black;border-radius: 0.25em;background-color: #f0f8ff;}#sk-container-id-1 input.sk-toggleable__control:checked~div.sk-toggleable__content {max-height: 200px;max-width: 100%;overflow: auto;}#sk-container-id-1 input.sk-toggleable__control:checked~label.sk-toggleable__label-arrow:before {content: \"▾\";}#sk-container-id-1 div.sk-estimator input.sk-toggleable__control:checked~label.sk-toggleable__label {background-color: #d4ebff;}#sk-container-id-1 div.sk-label input.sk-toggleable__control:checked~label.sk-toggleable__label {background-color: #d4ebff;}#sk-container-id-1 input.sk-hidden--visually {border: 0;clip: rect(1px 1px 1px 1px);clip: rect(1px, 1px, 1px, 1px);height: 1px;margin: -1px;overflow: hidden;padding: 0;position: absolute;width: 1px;}#sk-container-id-1 div.sk-estimator {font-family: monospace;background-color: #f0f8ff;border: 1px dotted black;border-radius: 0.25em;box-sizing: border-box;margin-bottom: 0.5em;}#sk-container-id-1 div.sk-estimator:hover {background-color: #d4ebff;}#sk-container-id-1 div.sk-parallel-item::after {content: \"\";width: 100%;border-bottom: 1px solid gray;flex-grow: 1;}#sk-container-id-1 div.sk-label:hover label.sk-toggleable__label {background-color: #d4ebff;}#sk-container-id-1 div.sk-serial::before {content: \"\";position: absolute;border-left: 1px solid gray;box-sizing: border-box;top: 0;bottom: 0;left: 50%;z-index: 0;}#sk-container-id-1 div.sk-serial {display: flex;flex-direction: column;align-items: center;background-color: white;padding-right: 0.2em;padding-left: 0.2em;position: relative;}#sk-container-id-1 div.sk-item {position: relative;z-index: 1;}#sk-container-id-1 div.sk-parallel {display: flex;align-items: stretch;justify-content: center;background-color: white;position: relative;}#sk-container-id-1 div.sk-item::before, #sk-container-id-1 div.sk-parallel-item::before {content: \"\";position: absolute;border-left: 1px solid gray;box-sizing: border-box;top: 0;bottom: 0;left: 50%;z-index: -1;}#sk-container-id-1 div.sk-parallel-item {display: flex;flex-direction: column;z-index: 1;position: relative;background-color: white;}#sk-container-id-1 div.sk-parallel-item:first-child::after {align-self: flex-end;width: 50%;}#sk-container-id-1 div.sk-parallel-item:last-child::after {align-self: flex-start;width: 50%;}#sk-container-id-1 div.sk-parallel-item:only-child::after {width: 0;}#sk-container-id-1 div.sk-dashed-wrapped {border: 1px dashed gray;margin: 0 0.4em 0.5em 0.4em;box-sizing: border-box;padding-bottom: 0.4em;background-color: white;}#sk-container-id-1 div.sk-label label {font-family: monospace;font-weight: bold;display: inline-block;line-height: 1.2em;}#sk-container-id-1 div.sk-label-container {text-align: center;}#sk-container-id-1 div.sk-container {/* jupyter's `normalize.less` sets `[hidden] { display: none; }` but bootstrap.min.css set `[hidden] { display: none !important; }` so we also need the `!important` here to be able to override the default hidden behavior on the sphinx rendered scikit-learn.org. See: https://github.com/scikit-learn/scikit-learn/issues/21755 */display: inline-block !important;position: relative;}#sk-container-id-1 div.sk-text-repr-fallback {display: none;}</style><div id=\"sk-container-id-1\" class=\"sk-top-container\"><div class=\"sk-text-repr-fallback\"><pre>LinearRegression()</pre><b>In a Jupyter environment, please rerun this cell to show the HTML representation or trust the notebook. <br />On GitHub, the HTML representation is unable to render, please try loading this page with nbviewer.org.</b></div><div class=\"sk-container\" hidden><div class=\"sk-item\"><div class=\"sk-estimator sk-toggleable\"><input class=\"sk-toggleable__control sk-hidden--visually\" id=\"sk-estimator-id-1\" type=\"checkbox\" checked><label for=\"sk-estimator-id-1\" class=\"sk-toggleable__label sk-toggleable__label-arrow\">LinearRegression</label><div class=\"sk-toggleable__content\"><pre>LinearRegression()</pre></div></div></div></div></div>"
            ]
          },
          "metadata": {},
          "execution_count": 40
        }
      ]
    },
    {
      "cell_type": "code",
      "source": [
        "y_pred = modellr.predict(x_test)"
      ],
      "metadata": {
        "id": "QD4SLbXR8ZrT"
      },
      "execution_count": 41,
      "outputs": []
    },
    {
      "cell_type": "code",
      "source": [
        "y_pred"
      ],
      "metadata": {
        "colab": {
          "base_uri": "https://localhost:8080/"
        },
        "id": "XFlH4Jo08Ztu",
        "outputId": "17e98202-a30d-4570-f8b8-6eca70935c31"
      },
      "execution_count": 42,
      "outputs": [
        {
          "output_type": "execute_result",
          "data": {
            "text/plain": [
              "array([68.56690199, 79.53485731, 75.07324371, 72.37944065, 73.60077486,\n",
              "       81.25566973, 72.98142866, 75.82624259, 74.74353981, 73.05412763,\n",
              "       77.17197843, 73.21953836, 80.36713139, 84.53838024, 80.76272928,\n",
              "       77.8825597 , 78.09773775, 78.65698746, 81.2394203 , 64.77121934,\n",
              "       71.17784926, 79.66074441, 78.40242628, 71.21165766, 64.00977775,\n",
              "       71.93386729, 72.53365662, 77.8713174 , 78.86264516, 74.14664512,\n",
              "       84.95644031, 87.1310888 , 89.22475677, 62.49251887, 81.49435305,\n",
              "       80.85343276, 77.33666609, 86.52044832, 74.8545608 , 78.39106254,\n",
              "       76.53587544, 69.82493706, 74.16415631, 72.89393401, 79.05673841,\n",
              "       68.68359983, 80.0498416 , 77.6265127 , 63.24757174, 77.00600429,\n",
              "       75.91749834, 68.83164556, 72.79389213, 75.56304618, 66.69817894,\n",
              "       79.65230965, 79.68021644, 79.83016062, 63.37414591, 85.07393951,\n",
              "       64.90687086, 77.21105582, 80.28668398, 74.71070474, 82.00137505,\n",
              "       74.9019524 , 75.20873312, 83.70915565, 70.1930808 , 77.60702622,\n",
              "       78.8316205 , 73.87783743, 73.67840216, 77.038027  , 73.70293385,\n",
              "       63.59811316, 74.36624189, 76.60873966])"
            ]
          },
          "metadata": {},
          "execution_count": 42
        }
      ]
    },
    {
      "cell_type": "code",
      "source": [
        "from sklearn.metrics import r2_score, mean_squared_error\n",
        "r2 = r2_score(y_test, y_pred)\n",
        "r2"
      ],
      "metadata": {
        "colab": {
          "base_uri": "https://localhost:8080/"
        },
        "id": "aLle5iLB8ZwC",
        "outputId": "b3a4d422-8567-4b21-9293-9e31b9bcc7ac"
      },
      "execution_count": 43,
      "outputs": [
        {
          "output_type": "execute_result",
          "data": {
            "text/plain": [
              "0.3281002378741138"
            ]
          },
          "metadata": {},
          "execution_count": 43
        }
      ]
    },
    {
      "cell_type": "code",
      "source": [
        "mse = mean_squared_error(y_test, y_pred)\n",
        "mse"
      ],
      "metadata": {
        "colab": {
          "base_uri": "https://localhost:8080/"
        },
        "id": "4j3xqlNO8ZyJ",
        "outputId": "a45b6600-77ba-4086-a0cb-ce3c21b537bb"
      },
      "execution_count": 44,
      "outputs": [
        {
          "output_type": "execute_result",
          "data": {
            "text/plain": [
              "49.953494395725095"
            ]
          },
          "metadata": {},
          "execution_count": 44
        }
      ]
    },
    {
      "cell_type": "code",
      "source": [
        "rmse = np.sqrt(mse)\n",
        "rmse"
      ],
      "metadata": {
        "colab": {
          "base_uri": "https://localhost:8080/"
        },
        "id": "HFPkqS6F8Z0Y",
        "outputId": "abd14e7c-4669-40ac-a9e9-54b8f203d474"
      },
      "execution_count": 45,
      "outputs": [
        {
          "output_type": "execute_result",
          "data": {
            "text/plain": [
              "7.0677786040399635"
            ]
          },
          "metadata": {},
          "execution_count": 45
        }
      ]
    },
    {
      "cell_type": "code",
      "source": [
        "plt.scatter(y_test, y_pred)\n",
        "plt.show()"
      ],
      "metadata": {
        "colab": {
          "base_uri": "https://localhost:8080/",
          "height": 430
        },
        "id": "eYDCksx88Z24",
        "outputId": "87097770-c499-4e46-c8c0-7aa0e42d61cb"
      },
      "execution_count": 46,
      "outputs": [
        {
          "output_type": "display_data",
          "data": {
            "text/plain": [
              "<Figure size 640x480 with 1 Axes>"
            ],
            "image/png": "[encoded data removed]"
          },
          "metadata": {}
        }
      ]
    },
    {
      "cell_type": "code",
      "source": [],
      "metadata": {
        "id": "dLcAiXn8OVVk"
      },
      "execution_count": null,
      "outputs": []
    },
    {
      "cell_type": "markdown",
      "source": [
        "9.2.Random Forest regressor model"
      ],
      "metadata": {
        "id": "OSOBaBp31O9n"
      }
    },
    {
      "cell_type": "code",
      "source": [
        "from sklearn.ensemble import RandomForestRegressor\n",
        "#Accuracy score\n",
        "from sklearn.metrics import accuracy_score,confusion_matrix,classification_report,roc_auc_score,roc_curve,r2_score\n",
        "\n",
        "modelrf = RandomForestRegressor()\n",
        "\n",
        "modelrf.fit(x_train, y_train)\n",
        "\n",
        "ypr = modelrf.predict(x_test)\n",
        "\n",
        "ypr\n",
        "\n",
        "accc= r2_score (y_test,ypr)\n",
        "accc"
      ],
      "metadata": {
        "colab": {
          "base_uri": "https://localhost:8080/"
        },
        "id": "FnEYTQmd1K7O",
        "outputId": "8ef6ab85-7d2b-4358-aabf-a3d11d46df02"
      },
      "execution_count": 47,
      "outputs": [
        {
          "output_type": "execute_result",
          "data": {
            "text/plain": [
              "0.8825438096807838"
            ]
          },
          "metadata": {},
          "execution_count": 47
        }
      ]
    },
    {
      "cell_type": "code",
      "source": [
        "pred_result = modelrf.predict(x_test)\n",
        "print(pred_result)"
      ],
      "metadata": {
        "colab": {
          "base_uri": "https://localhost:8080/"
        },
        "id": "rYnDzAL41jnc",
        "outputId": "220c0383-291e-4cd6-e4e3-47960ecbe2c8"
      },
      "execution_count": 48,
      "outputs": [
        {
          "output_type": "stream",
          "name": "stdout",
          "text": [
            "[70.55       70.         70.         75.         70.         90.\n",
            " 84.85       70.         80.1        70.         84.1        82.8\n",
            " 70.65       90.         80.1        84.4        83.8        70.\n",
            " 80.1        60.         84.25       75.         75.         75.\n",
            " 60.         75.         70.         70.         80.05       75.\n",
            " 90.         90.         90.         60.         69.71666667 87.65\n",
            " 75.         79.9        75.         70.         89.3        70.\n",
            " 85.         82.7        70.         71.6        70.         89.95\n",
            " 60.         70.         75.         70.25       70.         75.\n",
            " 56.4        70.         71.2        73.3        60.         79.95\n",
            " 60.         70.         80.         70.         69.18130952 70.\n",
            " 75.         90.         70.         84.85       89.95       81.\n",
            " 82.2        89.6        69.96       60.         85.         70.        ]\n"
          ]
        }
      ]
    },
    {
      "cell_type": "code",
      "source": [
        "filename = 'modelrff.pkl'\n",
        "pickle.dump(modelrf,open(filename,'wb'))"
      ],
      "metadata": {
        "id": "lGcv6QC51zd0"
      },
      "execution_count": 49,
      "outputs": []
    },
    {
      "cell_type": "code",
      "source": [
        "loaded_model=pickle.load(open(filename,'rb'))\n",
        "loaded_model.predict(x_test)"
      ],
      "metadata": {
        "colab": {
          "base_uri": "https://localhost:8080/"
        },
        "id": "Pnf5twgp2Vu-",
        "outputId": "2797c2fb-6809-445d-f3ba-b4f2b431b4dd"
      },
      "execution_count": 50,
      "outputs": [
        {
          "output_type": "execute_result",
          "data": {
            "text/plain": [
              "array([70.55      , 70.        , 70.        , 75.        , 70.        ,\n",
              "       90.        , 84.85      , 70.        , 80.1       , 70.        ,\n",
              "       84.1       , 82.8       , 70.65      , 90.        , 80.1       ,\n",
              "       84.4       , 83.8       , 70.        , 80.1       , 60.        ,\n",
              "       84.25      , 75.        , 75.        , 75.        , 60.        ,\n",
              "       75.        , 70.        , 70.        , 80.05      , 75.        ,\n",
              "       90.        , 90.        , 90.        , 60.        , 69.71666667,\n",
              "       87.65      , 75.        , 79.9       , 75.        , 70.        ,\n",
              "       89.3       , 70.        , 85.        , 82.7       , 70.        ,\n",
              "       71.6       , 70.        , 89.95      , 60.        , 70.        ,\n",
              "       75.        , 70.25      , 70.        , 75.        , 56.4       ,\n",
              "       70.        , 71.2       , 73.3       , 60.        , 79.95      ,\n",
              "       60.        , 70.        , 80.        , 70.        , 69.18130952,\n",
              "       70.        , 75.        , 90.        , 70.        , 84.85      ,\n",
              "       89.95      , 81.        , 82.2       , 89.6       , 69.96      ,\n",
              "       60.        , 85.        , 70.        ])"
            ]
          },
          "metadata": {},
          "execution_count": 50
        }
      ]
    },
    {
      "cell_type": "code",
      "source": [
        "pickle.dump(le, open('label_encoder.pkl', 'wb'))\n",
        "pickle.dump(ms, open('scaler.pkl', 'wb'))"
      ],
      "metadata": {
        "id": "gP22vG2u2bqr"
      },
      "execution_count": 51,
      "outputs": []
    },
    {
      "cell_type": "code",
      "source": [
        "with open('modelrff.pkl', 'wb') as file:\n",
        "    pickle.dump(modelrf, file)"
      ],
      "metadata": {
        "id": "UA76pslQ8SRW"
      },
      "execution_count": 52,
      "outputs": []
    },
    {
      "cell_type": "code",
      "source": [
        "with open('modelrff.pkl', 'rb') as file:\n",
        "    loaded_model = pickle.load(file)"
      ],
      "metadata": {
        "id": "Ln5RDoRF9XPb"
      },
      "execution_count": 53,
      "outputs": []
    },
    {
      "cell_type": "code",
      "source": [
        "modelrf.fit(x_train.values, y_train.values)\n",
        "data_pred = modelrf.predict(x_test.values)"
      ],
      "metadata": {
        "id": "ow8cGgFA9aI2"
      },
      "execution_count": 54,
      "outputs": []
    },
    {
      "cell_type": "code",
      "source": [
        "df.head()"
      ],
      "metadata": {
        "id": "OBnpuIil-9gp",
        "colab": {
          "base_uri": "https://localhost:8080/",
          "height": 206
        },
        "outputId": "c64f5b68-cfa8-4375-aee3-50ba09a05338"
      },
      "execution_count": 55,
      "outputs": [
        {
          "output_type": "execute_result",
          "data": {
            "text/plain": [
              "        Timestamp User_ID   Application_Type  Signal_Strength  Latency  \\\n",
              "0  9/3/2023 10:00  User_1         Video_Call              -75       30   \n",
              "1  9/3/2023 10:00  User_2         Voice_Call              -80       20   \n",
              "2  9/3/2023 10:00  User_3          Streaming              -85       40   \n",
              "3  9/3/2023 10:00  User_4  Emergency_Service              -70       10   \n",
              "4  9/3/2023 10:00  User_5      Online_Gaming              -78       25   \n",
              "\n",
              "   Required_Bandwidth  Allocated_Bandwidth  Resource_Allocation  \n",
              "0          100.000000                  4.0                   70  \n",
              "1           10.000000                120.0                   80  \n",
              "2           70.710678               6000.0                   75  \n",
              "3           31.622777               1500.0                   90  \n",
              "4           44.721360               3000.0                   85  "
            ],
            "text/html": [
              "\n",
              "  <div id=\"df-05144fc4-6cb9-44f8-a164-719a713483d0\" class=\"colab-df-container\">\n",
              "    <div>\n",
              "<style scoped>\n",
              "    .dataframe tbody tr th:only-of-type {\n",
              "        vertical-align: middle;\n",
              "    }\n",
              "\n",
              "    .dataframe tbody tr th {\n",
              "        vertical-align: top;\n",
              "    }\n",
              "\n",
              "    .dataframe thead th {\n",
              "        text-align: right;\n",
              "    }\n",
              "</style>\n",
              "<table border=\"1\" class=\"dataframe\">\n",
              "  <thead>\n",
              "    <tr style=\"text-align: right;\">\n",
              "      <th></th>\n",
              "      <th>Timestamp</th>\n",
              "      <th>User_ID</th>\n",
              "      <th>Application_Type</th>\n",
              "      <th>Signal_Strength</th>\n",
              "      <th>Latency</th>\n",
              "      <th>Required_Bandwidth</th>\n",
              "      <th>Allocated_Bandwidth</th>\n",
              "      <th>Resource_Allocation</th>\n",
              "    </tr>\n",
              "  </thead>\n",
              "  <tbody>\n",
              "    <tr>\n",
              "      <th>0</th>\n",
              "      <td>9/3/2023 10:00</td>\n",
              "      <td>User_1</td>\n",
              "      <td>Video_Call</td>\n",
              "      <td>-75</td>\n",
              "      <td>30</td>\n",
              "      <td>100.000000</td>\n",
              "      <td>4.0</td>\n",
              "      <td>70</td>\n",
              "    </tr>\n",
              "    <tr>\n",
              "      <th>1</th>\n",
              "      <td>9/3/2023 10:00</td>\n",
              "      <td>User_2</td>\n",
              "      <td>Voice_Call</td>\n",
              "      <td>-80</td>\n",
              "      <td>20</td>\n",
              "      <td>10.000000</td>\n",
              "      <td>120.0</td>\n",
              "      <td>80</td>\n",
              "    </tr>\n",
              "    <tr>\n",
              "      <th>2</th>\n",
              "      <td>9/3/2023 10:00</td>\n",
              "      <td>User_3</td>\n",
              "      <td>Streaming</td>\n",
              "      <td>-85</td>\n",
              "      <td>40</td>\n",
              "      <td>70.710678</td>\n",
              "      <td>6000.0</td>\n",
              "      <td>75</td>\n",
              "    </tr>\n",
              "    <tr>\n",
              "      <th>3</th>\n",
              "      <td>9/3/2023 10:00</td>\n",
              "      <td>User_4</td>\n",
              "      <td>Emergency_Service</td>\n",
              "      <td>-70</td>\n",
              "      <td>10</td>\n",
              "      <td>31.622777</td>\n",
              "      <td>1500.0</td>\n",
              "      <td>90</td>\n",
              "    </tr>\n",
              "    <tr>\n",
              "      <th>4</th>\n",
              "      <td>9/3/2023 10:00</td>\n",
              "      <td>User_5</td>\n",
              "      <td>Online_Gaming</td>\n",
              "      <td>-78</td>\n",
              "      <td>25</td>\n",
              "      <td>44.721360</td>\n",
              "      <td>3000.0</td>\n",
              "      <td>85</td>\n",
              "    </tr>\n",
              "  </tbody>\n",
              "</table>\n",
              "</div>\n",
              "    <div class=\"colab-df-buttons\">\n",
              "\n",
              "  <div class=\"colab-df-container\">\n",
              "    <button class=\"colab-df-convert\" onclick=\"convertToInteractive('df-05144fc4-6cb9-44f8-a164-719a713483d0')\"\n",
              "            title=\"Convert this dataframe to an interactive table.\"\n",
              "            style=\"display:none;\">\n",
              "\n",
              "  <svg xmlns=\"http://www.w3.org/2000/svg\" height=\"24px\" viewBox=\"0 -960 960 960\">\n",
              "    <path d=\"M120-120v-720h720v720H120Zm60-500h600v-160H180v160Zm220 220h160v-160H400v160Zm0 220h160v-160H400v160ZM180-400h160v-160H180v160Zm440 0h160v-160H620v160ZM180-180h160v-160H180v160Zm440 0h160v-160H620v160Z\"/>\n",
              "  </svg>\n",
              "    </button>\n",
              "\n",
              "  <style>\n",
              "    .colab-df-container {\n",
              "      display:flex;\n",
              "      gap: 12px;\n",
              "    }\n",
              "\n",
              "    .colab-df-convert {\n",
              "      background-color: #E8F0FE;\n",
              "      border: none;\n",
              "      border-radius: 50%;\n",
              "      cursor: pointer;\n",
              "      display: none;\n",
              "      fill: #1967D2;\n",
              "      height: 32px;\n",
              "      padding: 0 0 0 0;\n",
              "      width: 32px;\n",
              "    }\n",
              "\n",
              "    .colab-df-convert:hover {\n",
              "      background-color: #E2EBFA;\n",
              "      box-shadow: 0px 1px 2px rgba(60, 64, 67, 0.3), 0px 1px 3px 1px rgba(60, 64, 67, 0.15);\n",
              "      fill: #174EA6;\n",
              "    }\n",
              "\n",
              "    .colab-df-buttons div {\n",
              "      margin-bottom: 4px;\n",
              "    }\n",
              "\n",
              "    [theme=dark] .colab-df-convert {\n",
              "      background-color: #3B4455;\n",
              "      fill: #D2E3FC;\n",
              "    }\n",
              "\n",
              "    [theme=dark] .colab-df-convert:hover {\n",
              "      background-color: #434B5C;\n",
              "      box-shadow: 0px 1px 3px 1px rgba(0, 0, 0, 0.15);\n",
              "      filter: drop-shadow(0px 1px 2px rgba(0, 0, 0, 0.3));\n",
              "      fill: #FFFFFF;\n",
              "    }\n",
              "  </style>\n",
              "\n",
              "    <script>\n",
              "      const buttonEl =\n",
              "        document.querySelector('#df-05144fc4-6cb9-44f8-a164-719a713483d0 button.colab-df-convert');\n",
              "      buttonEl.style.display =\n",
              "        google.colab.kernel.accessAllowed ? 'block' : 'none';\n",
              "\n",
              "      async function convertToInteractive(key) {\n",
              "        const element = document.querySelector('#df-05144fc4-6cb9-44f8-a164-719a713483d0');\n",
              "        const dataTable =\n",
              "          await google.colab.kernel.invokeFunction('convertToInteractive',\n",
              "                                                    [key], {});\n",
              "        if (!dataTable) return;\n",
              "\n",
              "        const docLinkHtml = 'Like what you see? Visit the ' +\n",
              "          '<a target=\"_blank\" href=https://colab.research.google.com/notebooks/data_table.ipynb>data table notebook</a>'\n",
              "          + ' to learn more about interactive tables.';\n",
              "        element.innerHTML = '';\n",
              "        dataTable['output_type'] = 'display_data';\n",
              "        await google.colab.output.renderOutput(dataTable, element);\n",
              "        const docLink = document.createElement('div');\n",
              "        docLink.innerHTML = docLinkHtml;\n",
              "        element.appendChild(docLink);\n",
              "      }\n",
              "    </script>\n",
              "  </div>\n",
              "\n",
              "\n",
              "<div id=\"df-970481e4-2d86-4cfd-b404-95acf16a5190\">\n",
              "  <button class=\"colab-df-quickchart\" onclick=\"quickchart('df-970481e4-2d86-4cfd-b404-95acf16a5190')\"\n",
              "            title=\"Suggest charts\"\n",
              "            style=\"display:none;\">\n",
              "\n",
              "<svg xmlns=\"http://www.w3.org/2000/svg\" height=\"24px\"viewBox=\"0 0 24 24\"\n",
              "     width=\"24px\">\n",
              "    <g>\n",
              "        <path d=\"M19 3H5c-1.1 0-2 .9-2 2v14c0 1.1.9 2 2 2h14c1.1 0 2-.9 2-2V5c0-1.1-.9-2-2-2zM9 17H7v-7h2v7zm4 0h-2V7h2v10zm4 0h-2v-4h2v4z\"/>\n",
              "    </g>\n",
              "</svg>\n",
              "  </button>\n",
              "\n",
              "<style>\n",
              "  .colab-df-quickchart {\n",
              "      --bg-color: #E8F0FE;\n",
              "      --fill-color: #1967D2;\n",
              "      --hover-bg-color: #E2EBFA;\n",
              "      --hover-fill-color: #174EA6;\n",
              "      --disabled-fill-color: #AAA;\n",
              "      --disabled-bg-color: #DDD;\n",
              "  }\n",
              "\n",
              "  [theme=dark] .colab-df-quickchart {\n",
              "      --bg-color: #3B4455;\n",
              "      --fill-color: #D2E3FC;\n",
              "      --hover-bg-color: #434B5C;\n",
              "      --hover-fill-color: #FFFFFF;\n",
              "      --disabled-bg-color: #3B4455;\n",
              "      --disabled-fill-color: #666;\n",
              "  }\n",
              "\n",
              "  .colab-df-quickchart {\n",
              "    background-color: var(--bg-color);\n",
              "    border: none;\n",
              "    border-radius: 50%;\n",
              "    cursor: pointer;\n",
              "    display: none;\n",
              "    fill: var(--fill-color);\n",
              "    height: 32px;\n",
              "    padding: 0;\n",
              "    width: 32px;\n",
              "  }\n",
              "\n",
              "  .colab-df-quickchart:hover {\n",
              "    background-color: var(--hover-bg-color);\n",
              "    box-shadow: 0 1px 2px rgba(60, 64, 67, 0.3), 0 1px 3px 1px rgba(60, 64, 67, 0.15);\n",
              "    fill: var(--button-hover-fill-color);\n",
              "  }\n",
              "\n",
              "  .colab-df-quickchart-complete:disabled,\n",
              "  .colab-df-quickchart-complete:disabled:hover {\n",
              "    background-color: var(--disabled-bg-color);\n",
              "    fill: var(--disabled-fill-color);\n",
              "    box-shadow: none;\n",
              "  }\n",
              "\n",
              "  .colab-df-spinner {\n",
              "    border: 2px solid var(--fill-color);\n",
              "    border-color: transparent;\n",
              "    border-bottom-color: var(--fill-color);\n",
              "    animation:\n",
              "      spin 1s steps(1) infinite;\n",
              "  }\n",
              "\n",
              "  @keyframes spin {\n",
              "    0% {\n",
              "      border-color: transparent;\n",
              "      border-bottom-color: var(--fill-color);\n",
              "      border-left-color: var(--fill-color);\n",
              "    }\n",
              "    20% {\n",
              "      border-color: transparent;\n",
              "      border-left-color: var(--fill-color);\n",
              "      border-top-color: var(--fill-color);\n",
              "    }\n",
              "    30% {\n",
              "      border-color: transparent;\n",
              "      border-left-color: var(--fill-color);\n",
              "      border-top-color: var(--fill-color);\n",
              "      border-right-color: var(--fill-color);\n",
              "    }\n",
              "    40% {\n",
              "      border-color: transparent;\n",
              "      border-right-color: var(--fill-color);\n",
              "      border-top-color: var(--fill-color);\n",
              "    }\n",
              "    60% {\n",
              "      border-color: transparent;\n",
              "      border-right-color: var(--fill-color);\n",
              "    }\n",
              "    80% {\n",
              "      border-color: transparent;\n",
              "      border-right-color: var(--fill-color);\n",
              "      border-bottom-color: var(--fill-color);\n",
              "    }\n",
              "    90% {\n",
              "      border-color: transparent;\n",
              "      border-bottom-color: var(--fill-color);\n",
              "    }\n",
              "  }\n",
              "</style>\n",
              "\n",
              "  <script>\n",
              "    async function quickchart(key) {\n",
              "      const quickchartButtonEl =\n",
              "        document.querySelector('#' + key + ' button');\n",
              "      quickchartButtonEl.disabled = true;  // To prevent multiple clicks.\n",
              "      quickchartButtonEl.classList.add('colab-df-spinner');\n",
              "      try {\n",
              "        const charts = await google.colab.kernel.invokeFunction(\n",
              "            'suggestCharts', [key], {});\n",
              "      } catch (error) {\n",
              "        console.error('Error during call to suggestCharts:', error);\n",
              "      }\n",
              "      quickchartButtonEl.classList.remove('colab-df-spinner');\n",
              "      quickchartButtonEl.classList.add('colab-df-quickchart-complete');\n",
              "    }\n",
              "    (() => {\n",
              "      let quickchartButtonEl =\n",
              "        document.querySelector('#df-970481e4-2d86-4cfd-b404-95acf16a5190 button');\n",
              "      quickchartButtonEl.style.display =\n",
              "        google.colab.kernel.accessAllowed ? 'block' : 'none';\n",
              "    })();\n",
              "  </script>\n",
              "</div>\n",
              "    </div>\n",
              "  </div>\n"
            ]
          },
          "metadata": {},
          "execution_count": 55
        }
      ]
    },
    {
      "cell_type": "code",
      "source": [
        "prediction = modelrf.predict([[1,\t-70\t,10.0\t,31.0,1500.0]])"
      ],
      "metadata": {
        "id": "JbgCHedleoae"
      },
      "execution_count": 56,
      "outputs": []
    },
    {
      "cell_type": "code",
      "source": [
        "prediction"
      ],
      "metadata": {
        "colab": {
          "base_uri": "https://localhost:8080/"
        },
        "id": "NQh2BMOyfJDK",
        "outputId": "d958d94a-eb34-4884-d854-e858de2d2061"
      },
      "execution_count": 57,
      "outputs": [
        {
          "output_type": "execute_result",
          "data": {
            "text/plain": [
              "array([70.10416667])"
            ]
          },
          "metadata": {},
          "execution_count": 57
        }
      ]
    },
    {
      "cell_type": "code",
      "source": [
        "score = modelrf.score(x_test, y_test)\n",
        "score"
      ],
      "metadata": {
        "colab": {
          "base_uri": "https://localhost:8080/"
        },
        "id": "vp1YgWIffOJ7",
        "outputId": "e1dda209-3eab-4d81-e8b4-0d1c2ffa4175"
      },
      "execution_count": 58,
      "outputs": [
        {
          "output_type": "stream",
          "name": "stderr",
          "text": [
            "/usr/local/lib/python3.10/dist-packages/sklearn/base.py:432: UserWarning: X has feature names, but RandomForestRegressor was fitted without feature names\n",
            "  warnings.warn(\n"
          ]
        },
        {
          "output_type": "execute_result",
          "data": {
            "text/plain": [
              "0.8806808749616024"
            ]
          },
          "metadata": {},
          "execution_count": 58
        }
      ]
    },
    {
      "cell_type": "code",
      "source": [],
      "metadata": {
        "id": "1E6kVwZV_LKr"
      },
      "execution_count": 58,
      "outputs": []
    },
    {
      "cell_type": "markdown",
      "source": [
        "9.3 - decision tree regresoor"
      ],
      "metadata": {
        "id": "w2wMOMiSFmF5"
      }
    },
    {
      "cell_type": "code",
      "source": [
        "from sklearn.tree import DecisionTreeRegressor\n",
        "\n",
        "dt= DecisionTreeRegressor(random_state = 65)\n",
        "\n",
        "modeldt = dt.fit(x_train, y_train)\n",
        "\n",
        "ypre = dt.predict(x_test)\n",
        "\n",
        "ac= r2_score (y_test,ypre)\n",
        "\n",
        "ac"
      ],
      "metadata": {
        "colab": {
          "base_uri": "https://localhost:8080/"
        },
        "id": "ri1nXMZ4_LNP",
        "outputId": "1cfd2686-1fc2-41c7-af58-102843b39f1d"
      },
      "execution_count": 59,
      "outputs": [
        {
          "output_type": "execute_result",
          "data": {
            "text/plain": [
              "0.8749792737522799"
            ]
          },
          "metadata": {},
          "execution_count": 59
        }
      ]
    },
    {
      "cell_type": "code",
      "source": [
        "with open('modeldt.pkl', 'wb') as file:\n",
        "    pickle.dump(modeldt, file)"
      ],
      "metadata": {
        "id": "4oKs29jlV4sa"
      },
      "execution_count": 60,
      "outputs": []
    },
    {
      "cell_type": "code",
      "source": [
        "with open('modeldt.pkl', 'rb') as file:\n",
        "    loaded_model = pickle.load(file)"
      ],
      "metadata": {
        "id": "EeH40lnXV4vH"
      },
      "execution_count": 61,
      "outputs": []
    },
    {
      "cell_type": "code",
      "source": [
        "prediction = modelrf.predict([[1,\t-42\t,5,400\t,400.0\t]])"
      ],
      "metadata": {
        "id": "ksVSYO2TWZbW"
      },
      "execution_count": 62,
      "outputs": []
    },
    {
      "cell_type": "code",
      "source": [
        "prediction"
      ],
      "metadata": {
        "colab": {
          "base_uri": "https://localhost:8080/"
        },
        "id": "jSqekQPnWcR-",
        "outputId": "d1777383-989c-4519-cd91-d36edc399cf9"
      },
      "execution_count": 63,
      "outputs": [
        {
          "output_type": "execute_result",
          "data": {
            "text/plain": [
              "array([70.10416667])"
            ]
          },
          "metadata": {},
          "execution_count": 63
        }
      ]
    },
    {
      "cell_type": "code",
      "source": [],
      "metadata": {
        "id": "N7Qtt7loOUMZ"
      },
      "execution_count": null,
      "outputs": []
    },
    {
      "cell_type": "markdown",
      "source": [
        "9.4 - KNN"
      ],
      "metadata": {
        "id": "wbFYd76o_Lp8"
      }
    },
    {
      "cell_type": "code",
      "source": [
        "from sklearn.neighbors import KNeighborsClassifier\n",
        "modelknn=KNeighborsClassifier()\n",
        "modelknn.fit(x_train,y_train)"
      ],
      "metadata": {
        "colab": {
          "base_uri": "https://localhost:8080/",
          "height": 74
        },
        "id": "71lGJ3YztwJx",
        "outputId": "7d550fc0-183e-494f-bd8d-bf6388e506e1"
      },
      "execution_count": 64,
      "outputs": [
        {
          "output_type": "execute_result",
          "data": {
            "text/plain": [
              "KNeighborsClassifier()"
            ],
            "text/html": [
              "<style>#sk-container-id-2 {color: black;background-color: white;}#sk-container-id-2 pre{padding: 0;}#sk-container-id-2 div.sk-toggleable {background-color: white;}#sk-container-id-2 label.sk-toggleable__label {cursor: pointer;display: block;width: 100%;margin-bottom: 0;padding: 0.3em;box-sizing: border-box;text-align: center;}#sk-container-id-2 label.sk-toggleable__label-arrow:before {content: \"▸\";float: left;margin-right: 0.25em;color: #696969;}#sk-container-id-2 label.sk-toggleable__label-arrow:hover:before {color: black;}#sk-container-id-2 div.sk-estimator:hover label.sk-toggleable__label-arrow:before {color: black;}#sk-container-id-2 div.sk-toggleable__content {max-height: 0;max-width: 0;overflow: hidden;text-align: left;background-color: #f0f8ff;}#sk-container-id-2 div.sk-toggleable__content pre {margin: 0.2em;color: black;border-radius: 0.25em;background-color: #f0f8ff;}#sk-container-id-2 input.sk-toggleable__control:checked~div.sk-toggleable__content {max-height: 200px;max-width: 100%;overflow: auto;}#sk-container-id-2 input.sk-toggleable__control:checked~label.sk-toggleable__label-arrow:before {content: \"▾\";}#sk-container-id-2 div.sk-estimator input.sk-toggleable__control:checked~label.sk-toggleable__label {background-color: #d4ebff;}#sk-container-id-2 div.sk-label input.sk-toggleable__control:checked~label.sk-toggleable__label {background-color: #d4ebff;}#sk-container-id-2 input.sk-hidden--visually {border: 0;clip: rect(1px 1px 1px 1px);clip: rect(1px, 1px, 1px, 1px);height: 1px;margin: -1px;overflow: hidden;padding: 0;position: absolute;width: 1px;}#sk-container-id-2 div.sk-estimator {font-family: monospace;background-color: #f0f8ff;border: 1px dotted black;border-radius: 0.25em;box-sizing: border-box;margin-bottom: 0.5em;}#sk-container-id-2 div.sk-estimator:hover {background-color: #d4ebff;}#sk-container-id-2 div.sk-parallel-item::after {content: \"\";width: 100%;border-bottom: 1px solid gray;flex-grow: 1;}#sk-container-id-2 div.sk-label:hover label.sk-toggleable__label {background-color: #d4ebff;}#sk-container-id-2 div.sk-serial::before {content: \"\";position: absolute;border-left: 1px solid gray;box-sizing: border-box;top: 0;bottom: 0;left: 50%;z-index: 0;}#sk-container-id-2 div.sk-serial {display: flex;flex-direction: column;align-items: center;background-color: white;padding-right: 0.2em;padding-left: 0.2em;position: relative;}#sk-container-id-2 div.sk-item {position: relative;z-index: 1;}#sk-container-id-2 div.sk-parallel {display: flex;align-items: stretch;justify-content: center;background-color: white;position: relative;}#sk-container-id-2 div.sk-item::before, #sk-container-id-2 div.sk-parallel-item::before {content: \"\";position: absolute;border-left: 1px solid gray;box-sizing: border-box;top: 0;bottom: 0;left: 50%;z-index: -1;}#sk-container-id-2 div.sk-parallel-item {display: flex;flex-direction: column;z-index: 1;position: relative;background-color: white;}#sk-container-id-2 div.sk-parallel-item:first-child::after {align-self: flex-end;width: 50%;}#sk-container-id-2 div.sk-parallel-item:last-child::after {align-self: flex-start;width: 50%;}#sk-container-id-2 div.sk-parallel-item:only-child::after {width: 0;}#sk-container-id-2 div.sk-dashed-wrapped {border: 1px dashed gray;margin: 0 0.4em 0.5em 0.4em;box-sizing: border-box;padding-bottom: 0.4em;background-color: white;}#sk-container-id-2 div.sk-label label {font-family: monospace;font-weight: bold;display: inline-block;line-height: 1.2em;}#sk-container-id-2 div.sk-label-container {text-align: center;}#sk-container-id-2 div.sk-container {/* jupyter's `normalize.less` sets `[hidden] { display: none; }` but bootstrap.min.css set `[hidden] { display: none !important; }` so we also need the `!important` here to be able to override the default hidden behavior on the sphinx rendered scikit-learn.org. See: https://github.com/scikit-learn/scikit-learn/issues/21755 */display: inline-block !important;position: relative;}#sk-container-id-2 div.sk-text-repr-fallback {display: none;}</style><div id=\"sk-container-id-2\" class=\"sk-top-container\"><div class=\"sk-text-repr-fallback\"><pre>KNeighborsClassifier()</pre><b>In a Jupyter environment, please rerun this cell to show the HTML representation or trust the notebook. <br />On GitHub, the HTML representation is unable to render, please try loading this page with nbviewer.org.</b></div><div class=\"sk-container\" hidden><div class=\"sk-item\"><div class=\"sk-estimator sk-toggleable\"><input class=\"sk-toggleable__control sk-hidden--visually\" id=\"sk-estimator-id-2\" type=\"checkbox\" checked><label for=\"sk-estimator-id-2\" class=\"sk-toggleable__label sk-toggleable__label-arrow\">KNeighborsClassifier</label><div class=\"sk-toggleable__content\"><pre>KNeighborsClassifier()</pre></div></div></div></div></div>"
            ]
          },
          "metadata": {},
          "execution_count": 64
        }
      ]
    },
    {
      "cell_type": "code",
      "source": [
        "score = modelknn.score(x_test, y_test)\n",
        "score"
      ],
      "metadata": {
        "colab": {
          "base_uri": "https://localhost:8080/"
        },
        "id": "lVZNLhVv3jRz",
        "outputId": "c25b3f70-4fa3-43ac-8e8f-aaf2cad4a55a"
      },
      "execution_count": 65,
      "outputs": [
        {
          "output_type": "execute_result",
          "data": {
            "text/plain": [
              "0.8974358974358975"
            ]
          },
          "metadata": {},
          "execution_count": 65
        }
      ]
    },
    {
      "cell_type": "code",
      "source": [
        "y_pred=modelknn.predict(x_test)"
      ],
      "metadata": {
        "id": "iswnAKEYtydF"
      },
      "execution_count": 66,
      "outputs": []
    },
    {
      "cell_type": "code",
      "source": [
        "y_pred"
      ],
      "metadata": {
        "colab": {
          "base_uri": "https://localhost:8080/"
        },
        "id": "RArhLBC6t2lv",
        "outputId": "acccd158-9709-40b3-f0f4-f41df0fdc447"
      },
      "execution_count": 67,
      "outputs": [
        {
          "output_type": "execute_result",
          "data": {
            "text/plain": [
              "array([70, 70, 70, 75, 70, 90, 85, 70, 80, 70, 85, 80, 70, 90, 80, 85, 85,\n",
              "       70, 80, 60, 85, 75, 75, 75, 60, 75, 70, 70, 80, 75, 90, 90, 90, 60,\n",
              "       70, 90, 75, 80, 75, 70, 90, 70, 85, 80, 70, 70, 70, 90, 60, 70, 75,\n",
              "       70, 70, 75, 60, 70, 70, 70, 60, 80, 60, 70, 80, 70, 70, 70, 75, 90,\n",
              "       70, 85, 90, 80, 80, 90, 70, 60, 85, 70])"
            ]
          },
          "metadata": {},
          "execution_count": 67
        }
      ]
    },
    {
      "cell_type": "code",
      "source": [
        "y_test"
      ],
      "metadata": {
        "colab": {
          "base_uri": "https://localhost:8080/"
        },
        "id": "fJwXfOgDt7YF",
        "outputId": "30ce5a09-4f86-44f0-f95d-4ec94272f960"
      },
      "execution_count": 68,
      "outputs": [
        {
          "output_type": "execute_result",
          "data": {
            "text/plain": [
              "60     70\n",
              "137    70\n",
              "325    70\n",
              "188    75\n",
              "294    70\n",
              "       ..\n",
              "100    90\n",
              "389    70\n",
              "117    60\n",
              "259    85\n",
              "261    70\n",
              "Name: Resource_Allocation, Length: 78, dtype: int64"
            ]
          },
          "metadata": {},
          "execution_count": 68
        }
      ]
    },
    {
      "cell_type": "code",
      "source": [
        "with open('modelknn.pkl', 'wb') as file:\n",
        "    pickle.dump(modelknn, file)"
      ],
      "metadata": {
        "id": "6SIuEeAIuRJF"
      },
      "execution_count": 69,
      "outputs": []
    },
    {
      "cell_type": "code",
      "source": [
        "with open('modelknn.pkl', 'rb') as file:\n",
        "    loaded_model = pickle.load(file)"
      ],
      "metadata": {
        "id": "HSg8mb7Zuggm"
      },
      "execution_count": 70,
      "outputs": []
    },
    {
      "cell_type": "code",
      "source": [
        "modelknn.fit(x_train.values, y_train.values)\n",
        "data_pred = modelknn.predict(x_test.values)"
      ],
      "metadata": {
        "id": "h5ZBQeGVul_M"
      },
      "execution_count": 71,
      "outputs": []
    },
    {
      "cell_type": "code",
      "source": [
        "prediction = modelrf.predict([[1,\t-42\t,5,400\t,400.0\t]])"
      ],
      "metadata": {
        "id": "2iIHl5XquqL_"
      },
      "execution_count": 72,
      "outputs": []
    },
    {
      "cell_type": "code",
      "source": [
        "prediction"
      ],
      "metadata": {
        "colab": {
          "base_uri": "https://localhost:8080/"
        },
        "id": "jtuRtv4F154Q",
        "outputId": "8b591e57-fa8a-4c5b-b9f1-4aab4aa257bb"
      },
      "execution_count": 73,
      "outputs": [
        {
          "output_type": "execute_result",
          "data": {
            "text/plain": [
              "array([70.10416667])"
            ]
          },
          "metadata": {},
          "execution_count": 73
        }
      ]
    },
    {
      "cell_type": "code",
      "source": [],
      "metadata": {
        "id": "CE-vacWGW0ri"
      },
      "execution_count": 75,
      "outputs": []
    },
    {
      "cell_type": "markdown",
      "source": [
        "![image.png](data:image/png;base64,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)"
      ],
      "metadata": {
        "id": "p4qcgA2iOMlR"
      }
    },
    {
      "cell_type": "code",
      "source": [],
      "metadata": {
        "id": "MpIV3qtZXqfW"
      },
      "execution_count": null,
      "outputs": []
    }
  ]
}